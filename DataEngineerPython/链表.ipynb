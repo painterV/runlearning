{
 "cells": [
  {
   "cell_type": "code",
   "execution_count": 44,
   "id": "8ca96c8b",
   "metadata": {},
   "outputs": [],
   "source": [
    "class LNode:\n",
    "    def __init__(self, x):\n",
    "        self.data = x\n",
    "        self.next = None\n",
    "    \n",
    "    def print_data(self):\n",
    "        \n",
    "        p = self\n",
    "        \n",
    "        while p is not None:\n",
    "            print(p.data, end=\" \")\n",
    "            p = p.next"
   ]
  },
  {
   "cell_type": "code",
   "execution_count": 45,
   "id": "2f89df13",
   "metadata": {},
   "outputs": [],
   "source": [
    "# create LNode\n",
    "l = LNode(0)"
   ]
  },
  {
   "cell_type": "code",
   "execution_count": 46,
   "id": "a3e5b856",
   "metadata": {},
   "outputs": [
    {
     "name": "stdout",
     "output_type": "stream",
     "text": [
      "0 1 2 3 4 5 60 10 9 "
     ]
    }
   ],
   "source": [
    "a = [1,2,3,4,5,60,10,9]\n",
    "\n",
    "p = l\n",
    "for item in a:\n",
    "    p.next = LNode(item)\n",
    "    p = p.next\n",
    "\n",
    "    \n",
    "l.print_data()"
   ]
  },
  {
   "cell_type": "code",
   "execution_count": 53,
   "id": "5b02411b",
   "metadata": {},
   "outputs": [
    {
     "name": "stdout",
     "output_type": "stream",
     "text": [
      "6 5 4 3 2 1 "
     ]
    }
   ],
   "source": [
    "class ListNode:\n",
    "    def __init__(self, val=0, next=None):\n",
    "        self.val = val\n",
    "        self.next = next\n",
    "\n",
    "def reverseList(head):\n",
    "    prev = None\n",
    "    curr = head\n",
    "    \n",
    "    while curr:\n",
    "        next_node = curr.next\n",
    "        curr.next = prev\n",
    "        prev = curr\n",
    "        curr = next_node\n",
    "    \n",
    "    return prev\n",
    "\n",
    "def recursiveReverse(head):\n",
    "    if head is None or head.next is None:\n",
    "        return head\n",
    "    \n",
    "    p = head.next\n",
    "    newHead = recursiveReverse(p)\n",
    "    p.next = head\n",
    "    head.next = None\n",
    "    \n",
    "    return newHead\n",
    "\n",
    "# 示例用法\n",
    "# 创建一个链表：1 -> 2 -> 3 -> 4 -> 5\n",
    "head = ListNode(1)\n",
    "head.next = ListNode(2)\n",
    "head.next.next = ListNode(3)\n",
    "head.next.next.next = ListNode(4)\n",
    "head.next.next.next.next = ListNode(5)\n",
    "head.next.next.next.next.next = ListNode(6)\n",
    "\n",
    "# 反转链表\n",
    "reversed_head = reverseList(head)\n",
    "\n",
    "# 输出反转后的链表\n",
    "while reversed_head:\n",
    "    print(reversed_head.val, end=\" \")\n",
    "    reversed_head = reversed_head.next\n",
    "\n",
    "new_r_head = recursiveReverse(reversed_head)\n",
    "while new_r_head:\n",
    "    print(new_r_head.val, end=\" \")\n",
    "    new_r_head = new_r_head.next\n"
   ]
  },
  {
   "cell_type": "code",
   "execution_count": 49,
   "id": "14360960",
   "metadata": {},
   "outputs": [],
   "source": [
    "#"
   ]
  },
  {
   "cell_type": "code",
   "execution_count": null,
   "id": "2910dd1b",
   "metadata": {},
   "outputs": [],
   "source": []
  },
  {
   "cell_type": "code",
   "execution_count": null,
   "id": "bdb11b9b",
   "metadata": {},
   "outputs": [],
   "source": []
  }
 ],
 "metadata": {
  "kernelspec": {
   "display_name": "Python 3 (ipykernel)",
   "language": "python",
   "name": "python3"
  },
  "language_info": {
   "codemirror_mode": {
    "name": "ipython",
    "version": 3
   },
   "file_extension": ".py",
   "mimetype": "text/x-python",
   "name": "python",
   "nbconvert_exporter": "python",
   "pygments_lexer": "ipython3",
   "version": "3.10.10"
  }
 },
 "nbformat": 4,
 "nbformat_minor": 5
}
