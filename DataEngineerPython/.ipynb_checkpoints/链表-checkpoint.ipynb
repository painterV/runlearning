{
 "cells": [
  {
   "cell_type": "code",
   "execution_count": 24,
   "id": "26dab30a",
   "metadata": {},
   "outputs": [],
   "source": [
    "class LNode:\n",
    "    def __init__(self, x):\n",
    "        self.data = x\n",
    "        self.next = None\n",
    "    \n",
    "    def print_data(self):\n",
    "        \n",
    "        p = self\n",
    "        \n",
    "        while p is not None:\n",
    "            print(p.data, end=\" \")\n",
    "            p = p.next"
   ]
  },
  {
   "cell_type": "code",
   "execution_count": 25,
   "id": "5e722930",
   "metadata": {},
   "outputs": [],
   "source": [
    "# create LNode\n",
    "l = LNode(0)"
   ]
  },
  {
   "cell_type": "code",
   "execution_count": 26,
   "id": "95ac747f",
   "metadata": {},
   "outputs": [
    {
     "name": "stdout",
     "output_type": "stream",
     "text": [
      "0 1 2 3 4 5 60 10 9 "
     ]
    }
   ],
   "source": [
    "a = [1,2,3,4,5,60,10,9]\n",
    "\n",
    "p = l\n",
    "for item in a:\n",
    "    p.next = LNode(item)\n",
    "    p = p.next\n",
    "\n",
    "    \n",
    "l.print_data()"
   ]
  },
  {
   "cell_type": "code",
   "execution_count": 28,
   "id": "74454976",
   "metadata": {},
   "outputs": [
    {
     "name": "stdout",
     "output_type": "stream",
     "text": [
      "0 9 "
     ]
    }
   ],
   "source": [
    "#就地反转\n",
    "def reverse_v1(head):\n",
    "    if head is None or head.next is None:\n",
    "        return\n",
    "    \n",
    "    pre = None\n",
    "    cur = None\n",
    "    next = None\n",
    "    cur = head\n",
    "    next = cur.next\n",
    "    cur.next = None\n",
    "    \n",
    "    pre = cur\n",
    "    cur = next\n",
    "    while cur.next != None:\n",
    "        next = cur.next\n",
    "        cur.next = pre\n",
    "        pre = cur\n",
    "        cur = next\n",
    "    \n",
    "    head = cur\n",
    "    \n",
    "    \n",
    "reverse_v1(l)\n",
    "l.print_data()"
   ]
  },
  {
   "cell_type": "code",
   "execution_count": null,
   "id": "e8e4805d",
   "metadata": {},
   "outputs": [],
   "source": [
    "#"
   ]
  },
  {
   "cell_type": "code",
   "execution_count": null,
   "id": "9c4af112",
   "metadata": {},
   "outputs": [],
   "source": []
  }
 ],
 "metadata": {
  "kernelspec": {
   "display_name": "Python 3 (ipykernel)",
   "language": "python",
   "name": "python3"
  },
  "language_info": {
   "codemirror_mode": {
    "name": "ipython",
    "version": 3
   },
   "file_extension": ".py",
   "mimetype": "text/x-python",
   "name": "python",
   "nbconvert_exporter": "python",
   "pygments_lexer": "ipython3",
   "version": "3.10.10"
  }
 },
 "nbformat": 4,
 "nbformat_minor": 5
}
