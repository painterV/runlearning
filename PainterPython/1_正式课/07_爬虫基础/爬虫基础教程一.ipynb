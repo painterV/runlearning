{
 "cells": [
  {
   "cell_type": "markdown",
   "metadata": {},
   "source": [
    "# 爬虫基础(一)\n",
    "\n",
    "本课学习目标：\n",
    "\n",
    "- 学会使用使用request库来发送网络请求（get请求）。\n",
    "- 使用BeautifulSoup库的find_all/find方法对网页进行解析。\n",
    "- html文档，其中比较常见的标签以及他们的作用。\n",
    "- 分析待爬网页的方法。\n",
    "- 浏览器开发者工具模式的使用操作。"
   ]
  },
  {
   "cell_type": "markdown",
   "metadata": {},
   "source": [
    "## 通过网页解析爬取静态网页\n",
    "\n",
    "首先我们需要了解什么是网络请求？\n",
    "\n"
   ]
  },
  {
   "cell_type": "markdown",
   "metadata": {},
   "source": [
    "`requests` 是一个Python库，用于发起HTTP请求，可以与网络上的资源进行通信。其中，`requests.get()` 函数用于发送GET请求。以下是对 `requests.get()` 函数的详细解释和用法示例：\n",
    "\n",
    "### `requests.get()` 函数的基本用法：\n",
    "\n",
    "```python\n",
    "import requests\n",
    "\n",
    "response = requests.get(url, params=None, **kwargs)\n",
    "```\n",
    "\n",
    "- `url`（必需）：要请求的URL地址。\n",
    "- `params`（可选）：一个字典或字节序列，用于在GET请求中传递查询字符串参数。\n",
    "- `**kwargs`（可选）：其他可选参数，用于定制请求，如设置请求头、代理、身份验证等。\n",
    "\n",
    "### 返回值：\n",
    "\n",
    "`requests.get()` 函数返回一个包含HTTP响应信息的`Response`对象，你可以通过该对象来查看和处理响应的各种属性和内容。\n",
    "\n",
    "### 常见的 `Response` 属性和方法：\n",
    "\n",
    "- `response.status_code`：HTTP响应的状态码，例如200表示成功，404表示未找到，500表示服务器内部错误等。\n",
    "- `response.headers`：响应头的字典，包含了HTTP头部信息。\n",
    "- `response.text`：以字符串形式返回响应内容，通常用于处理文本响应。\n",
    "- `response.content`：以字节形式返回响应内容，通常用于处理二进制响应（如图片、文件等）。\n",
    "- `response.json()`：将响应内容解析为JSON格式。\n",
    "- `response.raise_for_status()`：如果响应状态码表示失败（如4xx或5xx），则会引发异常。\n",
    "\n",
    "### 示例：\n",
    "\n",
    "1. 发送简单的请求\n",
    "\n",
    "```python\n",
    "# 导入 requests 包\n",
    "import requests\n",
    "\n",
    "# 发送请求\n",
    "x = requests.get('https://www.runoob.com/')\n",
    "\n",
    "# 返回网页内容\n",
    "print(x.text) # html文档\n",
    "print(x.status_code) # 200\n",
    "```\n",
    "\n",
    "2. 发送带查询字符串参数的GET请求\n",
    "\n",
    "```python\n",
    "# 导入 requests 包\n",
    "import requests\n",
    "\n",
    "params = {\"q\": \"python\", \"page\": 2}\n",
    "response = requests.get(\"https://www.example.com/search\", params=params)\n",
    "print(\"URL with Query Parameters:\", response.url)\n",
    "```\n",
    "\n",
    "3. 发送请求后返回json响应\n",
    "```python\n",
    "import requests\n",
    "\n",
    "# 处理JSON响应\n",
    "# 发送请求\n",
    "x = requests.get('https://www.runoob.com/try/ajax/json_demo.json')\n",
    "\n",
    "# 返回 json 数据\n",
    "print(x.json())\n",
    "```\n",
    "\n",
    "上述示例演示了如何使用 `requests.get()` 函数发送GET请求，获取响应并处理不同类型的响应数据。你可以根据自己的需求，进一步自定义请求头、代理、身份验证等参数。在实际使用中，要确保处理响应时考虑到错误处理和异常处理，以保证代码的健壮性。"
   ]
  },
  {
   "cell_type": "markdown",
   "metadata": {},
   "source": [
    "## 通过api接口请求数据"
   ]
  }
 ],
 "metadata": {
  "kernelspec": {
   "display_name": "Python 3 (ipykernel)",
   "language": "python",
   "name": "python3"
  },
  "orig_nbformat": 4
 },
 "nbformat": 4,
 "nbformat_minor": 2
}
