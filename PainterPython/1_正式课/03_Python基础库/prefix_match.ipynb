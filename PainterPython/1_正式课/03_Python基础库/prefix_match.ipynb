{
 "cells": [
  {
   "cell_type": "code",
   "execution_count": 5,
   "id": "7e3c4940",
   "metadata": {},
   "outputs": [
    {
     "name": "stdout",
     "output_type": "stream",
     "text": [
      "广东外语大学 包含于 广东外语大学数据学院\n",
      "中山大学 包含于 中山大学旅游学院\n",
      "['广东外语大学', '广东外语大学', '中山大学', '中山大学']\n"
     ]
    }
   ],
   "source": [
    "units = ['广东外语大学', '广东外语大学数据学院', '中山大学', '中山大学旅游学院']\n",
    "\n",
    "for i in range(len(units)):\n",
    "    for j in range(i+1, len(units)):\n",
    "        if units[i] in units[j]:\n",
    "            print(f\"{units[i]} 包含于 {units[j]}\")\n",
    "            units[j] = units[i]\n",
    "        elif units[j] in units[i]:\n",
    "            print(f\"{units[j]} 包含于 {units[i]}\")\n",
    "            units[i] = units[j]\n",
    "        #else:\n",
    "        #    print(f\"{units[i]} 和 {units[j]} 无包含关系\")\n",
    "print(units)\n"
   ]
  },
  {
   "cell_type": "code",
   "execution_count": 6,
   "id": "5abe025d",
   "metadata": {},
   "outputs": [
    {
     "name": "stdout",
     "output_type": "stream",
     "text": [
      "请输入1-10的任意一个整数3\n",
      "猜小了，再猜一次\n",
      "请输入1-10的任意一个整数4\n",
      "猜小了，再猜一次\n",
      "请输入1-10的任意一个整数8\n",
      "猜大了，再猜一次\n",
      "请输入1-10的任意一个整数6\n",
      "猜小了，再猜一次\n",
      "请输入1-10的任意一个整数7\n",
      "猜对了\n"
     ]
    }
   ],
   "source": [
    "import random\n",
    "\n",
    "num = random.randint(1, 10)\n",
    "\n",
    "while True:\n",
    "    a = int(input(\"请输入1-10的任意一个整数\"))\n",
    "    if a == num:\n",
    "        print(\"猜对了\")\n",
    "        break\n",
    "    elif a > num:\n",
    "        print(\"猜大了，再猜一次\")\n",
    "    else:\n",
    "        print(\"猜小了，再猜一次\")"
   ]
  },
  {
   "cell_type": "code",
   "execution_count": 7,
   "id": "41672a29",
   "metadata": {},
   "outputs": [
    {
     "name": "stdout",
     "output_type": "stream",
     "text": [
      "请输入1-10的任意一个整数1\n",
      "猜小了，再猜一次\n",
      "请输入1-10的任意一个整数10\n",
      "猜大了，再猜一次\n",
      "请输入1-10的任意一个整数5\n",
      "猜大了，再猜一次\n",
      "请输入1-10的任意一个整数3\n",
      "猜对了，数字是: 3\n"
     ]
    }
   ],
   "source": [
    "num = random.randint(1, 10)\n",
    "a = int(input(\"请输入1-10的任意一个整数\"))\n",
    "while a != num:\n",
    "    if a > num:\n",
    "        print(\"猜大了，再猜一次\")\n",
    "    else:\n",
    "        print(\"猜小了，再猜一次\")\n",
    "    a = int(input(\"请输入1-10的任意一个整数\"))\n",
    "\n",
    "print(\"猜对了，数字是:\", a)"
   ]
  },
  {
   "cell_type": "code",
   "execution_count": 8,
   "id": "87a94667",
   "metadata": {},
   "outputs": [
    {
     "name": "stdout",
     "output_type": "stream",
     "text": [
      "{'广东', 'ps', 'id', 'up', '喜欢', '今天'}\n"
     ]
    }
   ],
   "source": [
    "a = [\"广东\", \"喜欢\", \"id\", \"up\", \"ps\", \"今天\"]\n",
    "\n",
    "with open(\"stopwords.txt\", 'w') as f:\n",
    "    for item in a:\n",
    "        f.write(item + \"\\n\")\n",
    "\n",
    "        \n",
    "with open(\"stopwords.txt\", 'r') as f:\n",
    "    stopwords = set(f.read().splitlines())\n",
    "\n",
    "print(stopwords)"
   ]
  },
  {
   "cell_type": "code",
   "execution_count": null,
   "id": "56713cb2",
   "metadata": {},
   "outputs": [],
   "source": []
  }
 ],
 "metadata": {
  "kernelspec": {
   "display_name": "Python 3 (ipykernel)",
   "language": "python",
   "name": "python3"
  },
  "language_info": {
   "codemirror_mode": {
    "name": "ipython",
    "version": 3
   },
   "file_extension": ".py",
   "mimetype": "text/x-python",
   "name": "python",
   "nbconvert_exporter": "python",
   "pygments_lexer": "ipython3",
   "version": "3.10.9"
  }
 },
 "nbformat": 4,
 "nbformat_minor": 5
}
