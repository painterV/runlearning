{
 "cells": [
  {
   "cell_type": "markdown",
   "id": "54f2298e",
   "metadata": {},
   "source": [
    "# python 标准库\n",
    "\n",
    "## 本课内容: python标准库\n",
    "\n",
    "- os模块\n",
    "- sys模块\n",
    "\n",
    "\n",
    "## os模块\n",
    "\n",
    "`os` 模块是Python标准库中提供的一个与操作系统交互的模块，它提供了许多函数和变量来执行各种操作，如文件和目录操作、进程管理、环境变量访问等。以下是 `os` 模块中一些常用的函数和变量：\n",
    "\n",
    "常用函数：\n",
    "- `os.getcwd()`: 获取当前工作目录的路径。\n",
    "- `os.chdir(path)`: 修改当前工作目录为指定路径。\n",
    "- `os.listdir(path)`: 返回指定目录下的文件和目录列表。\n",
    "- `os.mkdir(path)`: 创建一个新目录。\n",
    "- `os.makedirs(path)`: 递归地创建新目录。\n",
    "- `os.remove(path)`: 删除指定路径的文件。\n",
    "- `os.rmdir(path)`: 删除指定路径的目录。\n",
    "- `os.path.join(path1, path2, ...)`：将多个路径组合成一个路径。\n",
    "- `os.path.exists(path)`: 检查指定路径是否存在。\n",
    "- `os.path.isdir(path)`: 判断指定路径是否是一个目录。\n",
    "- `os.path.isfile(path)`: 判断指定路径是否是一个文件。\n",
    "\n",
    "常用变量：\n",
    "- `os.sep`: 用于分隔文件路径的分隔符，例如在Unix/Linux系统中是`/`，在Windows系统中是`\\`。\n",
    "- `os.name`: 表示当前操作系统的名称，例如在Unix/Linux系统中是`posix`，在Windows系统中是`nt`。\n",
    "\n",
    "请注意，以上仅列举了 `os` 模块的一部分常用函数和变量，还有其他许多函数和变量可以根据需要进行探索和使用。你可以通过查阅Python官方文档或使用`help(os)`命令来获取更详细的信息。 \n",
    "\n",
    "官方api链接：https://docs.python.org/3/library/os.html\n"
   ]
  },
  {
   "cell_type": "code",
   "execution_count": 42,
   "id": "9413be9c",
   "metadata": {},
   "outputs": [
    {
     "name": "stdout",
     "output_type": "stream",
     "text": [
      "/Users/lilianli/Documents/GitHub/runlearning/PainterPython\n"
     ]
    }
   ],
   "source": [
    "# 导入os模块\n",
    "import os\n",
    "\n",
    "# 获取当前工作目录的路径并打印\n",
    "path = os.getcwd() # current work directory\n",
    "print(path)"
   ]
  },
  {
   "cell_type": "code",
   "execution_count": 44,
   "id": "1507061c",
   "metadata": {},
   "outputs": [
    {
     "name": "stdout",
     "output_type": "stream",
     "text": [
      "/Users/lilianli/Documents/GitHub/runlearning/PainterPython/test_dir\n"
     ]
    }
   ],
   "source": [
    "# 修改当前工作目录为指定路径\n",
    "\n",
    "root_path = '/Users/lilianli/Documents/GitHub/runlearning/PainterPython/test_dir' #这里可以替换为你自己的目录\n",
    "os.chdir(root_path)\n",
    "print(os.getcwd())"
   ]
  },
  {
   "cell_type": "code",
   "execution_count": 46,
   "id": "1e180e81",
   "metadata": {},
   "outputs": [
    {
     "name": "stdout",
     "output_type": "stream",
     "text": [
      "['.DS_Store', 'mybaidu.html', 's', '0_试听课', 'README.md', 'test_dir', 'course_structure.md', 'test_dir2', '1_正式课']\n"
     ]
    }
   ],
   "source": [
    "# 返回指定目录下的文件和目录列表\n",
    "contents = os.listdir(path) #Linux/MacOS: ls/ Windows: dir\n",
    "print(contents)"
   ]
  },
  {
   "cell_type": "code",
   "execution_count": 47,
   "id": "7dd32649",
   "metadata": {},
   "outputs": [
    {
     "name": "stdout",
     "output_type": "stream",
     "text": [
      "/Users/lilianli/Documents/GitHub/runlearning/PainterPython/.DS_Store\n",
      "/Users/lilianli/Documents/GitHub/runlearning/PainterPython/mybaidu.html\n",
      "/Users/lilianli/Documents/GitHub/runlearning/PainterPython/s\n",
      "/Users/lilianli/Documents/GitHub/runlearning/PainterPython/0_试听课\n",
      "/Users/lilianli/Documents/GitHub/runlearning/PainterPython/README.md\n",
      "/Users/lilianli/Documents/GitHub/runlearning/PainterPython/test_dir\n",
      "/Users/lilianli/Documents/GitHub/runlearning/PainterPython/course_structure.md\n",
      "/Users/lilianli/Documents/GitHub/runlearning/PainterPython/test_dir2\n",
      "/Users/lilianli/Documents/GitHub/runlearning/PainterPython/1_正式课\n"
     ]
    }
   ],
   "source": [
    "# 获取每个文件的绝对路径\n",
    "\n",
    "for file in contents:\n",
    "    print(path + '/' + file)"
   ]
  },
  {
   "cell_type": "code",
   "execution_count": 57,
   "id": "70e6547e",
   "metadata": {},
   "outputs": [
    {
     "name": "stdout",
     "output_type": "stream",
     "text": [
      "当前用户没有管理员权限\n",
      "/Users/lilianli/Documents/GitHub/runlearning/PainterPython/test_dir\n",
      "这个目录不存在，新建\n"
     ]
    }
   ],
   "source": [
    "import os\n",
    "\n",
    "euid = os.geteuid()\n",
    "\n",
    "if euid == 0:\n",
    "    print(\"当前用户具有管理员权限\")\n",
    "else:\n",
    "    print(\"当前用户没有管理员权限\")\n",
    "\n",
    "    \n",
    "# 当前目录创建一个目录\n",
    "new_dir = path + '/test_dir'\n",
    "print(new_dir)\n",
    "if not os.path.exists(new_dir):\n",
    "    print(\"这个目录不存在，新建\")\n",
    "    os.makedirs(new_dir)\n",
    "else:\n",
    "    print('这个目录已经存在，先删除')\n",
    "    # 如果已存在则删除这个目录\n",
    "    os.rmdir(new_dir) # remove/  rm -r dir_name\n",
    "    #然后再创建\n",
    "#     os.makedirs(new_dir)\n"
   ]
  },
  {
   "cell_type": "code",
   "execution_count": 56,
   "id": "009cefaa",
   "metadata": {},
   "outputs": [
    {
     "ename": "FileNotFoundError",
     "evalue": "[Errno 2] No such file or directory: '/Users/lilianli/Documents/GitHub/runlearning/PainterPython/test_dir'",
     "output_type": "error",
     "traceback": [
      "\u001b[0;31m---------------------------------------------------------------------------\u001b[0m",
      "\u001b[0;31mFileNotFoundError\u001b[0m                         Traceback (most recent call last)",
      "Cell \u001b[0;32mIn[56], line 2\u001b[0m\n\u001b[1;32m      1\u001b[0m \u001b[38;5;66;03m# os.makedirs(new_dir)\u001b[39;00m\n\u001b[0;32m----> 2\u001b[0m \u001b[43mos\u001b[49m\u001b[38;5;241;43m.\u001b[39;49m\u001b[43mrmdir\u001b[49m\u001b[43m(\u001b[49m\u001b[43mnew_dir\u001b[49m\u001b[43m)\u001b[49m\n",
      "\u001b[0;31mFileNotFoundError\u001b[0m: [Errno 2] No such file or directory: '/Users/lilianli/Documents/GitHub/runlearning/PainterPython/test_dir'"
     ]
    }
   ],
   "source": [
    "# os.makedirs(new_dir)\n",
    "os.rmdir(new_dir)"
   ]
  },
  {
   "cell_type": "code",
   "execution_count": 58,
   "id": "81729c0e",
   "metadata": {},
   "outputs": [
    {
     "name": "stdout",
     "output_type": "stream",
     "text": [
      "['.DS_Store', 'mybaidu.html', 's', '0_试听课', 'README.md', 'test_dir', 'course_structure.md', 'test_dir2', '1_正式课']\n"
     ]
    }
   ],
   "source": [
    "contents = os.listdir(path)\n",
    "print(contents)"
   ]
  },
  {
   "cell_type": "code",
   "execution_count": 60,
   "id": "e7d5a545",
   "metadata": {},
   "outputs": [
    {
     "name": "stdout",
     "output_type": "stream",
     "text": [
      "['.DS_Store', 'mybaidu.html', 's', '0_试听课', 'README.md', 'test_dir', 'course_structure.md', 'test_dir2', '1_正式课']\n"
     ]
    }
   ],
   "source": [
    "## 递归创建目录\n",
    "new_dir2 = path + '/test_dir2/subtest/hello'\n",
    "os.makedirs(new_dir2)\n",
    "contents = os.listdir(path)\n",
    "print(contents)"
   ]
  },
  {
   "cell_type": "code",
   "execution_count": 65,
   "id": "93583aaa",
   "metadata": {},
   "outputs": [
    {
     "name": "stdout",
     "output_type": "stream",
     "text": [
      "/Users/lilianli/Documents/GitHub/runlearning/PainterPython/test_dir/test.txt\n",
      "删除文件前文件夹内容： ['test.txt']\n",
      "/Users/lilianli/Documents/GitHub/runlearning/PainterPython/test_dir/test.txt 文件创建成功！使用remove函数删除这个文件\n",
      "删除文件后当前文件夹内容： []\n"
     ]
    }
   ],
   "source": [
    "\n",
    "# os.path.join(path1, path2, ...)：将多个路径组合成一个路径。\n",
    "\n",
    "test_file = os.path.join(new_dir, 'test.txt')\n",
    "\n",
    "print(test_file)\n",
    "\n",
    "# os.remove(path): 删除指定路径的文件。\n",
    "# test_file = \"test2.txt\"\n",
    "# 使用 open() 函数创建一个空文件\n",
    "if not os.path.exists(test_file):\n",
    "    #文件不存在则创建\n",
    "    # \"w\" write 写文件\n",
    "    # \"r\" read 读文件\n",
    "    # \"a\" append 追加文件\n",
    "    # \"x\" excute 执行文件\n",
    "    with open(test_file, \"w\") as file:\n",
    "        file.write(\"hello, world\")\n",
    "contents = os.listdir(new_dir)\n",
    "print(\"删除文件前文件夹内容：\", contents)\n",
    "\n",
    "# 检查文件是否创建成功\n",
    "# os.path.exists(path): 检查指定路径是否存在。\n",
    "if os.path.exists(test_file):\n",
    "    print(test_file + \" 文件创建成功！使用remove函数删除这个文件\")\n",
    "    os.remove(test_file)\n",
    "else:\n",
    "    print(\"文件创建失败！\")\n",
    "\n",
    "    \n",
    "\n",
    "contents = os.listdir(new_dir)\n",
    "print(\"删除文件后当前文件夹内容：\", contents) #查看 test.txt是否删除\n"
   ]
  },
  {
   "cell_type": "code",
   "execution_count": 68,
   "id": "a262e426",
   "metadata": {},
   "outputs": [
    {
     "name": "stdout",
     "output_type": "stream",
     "text": [
      "/Users/lilianli/Documents/GitHub/runlearning/PainterPython/test_dir/test.txt 不是一个合法路径\n"
     ]
    }
   ],
   "source": [
    "\n",
    "# os.path.isdir(path): 判断指定路径是否是一个目录。\n",
    "# os.path.isfile(path): 判断指定路径是否是一个文件。\n",
    "test_path = test_file\n",
    "if os.path.isdir(test_path):\n",
    "    print(test_path + \" 是一个目录\")\n",
    "elif os.path.isfile(path):\n",
    "    print(test_path + \" 是一个文件\")\n",
    "else:\n",
    "    print(test_path + \" 不是一个合法路径\")"
   ]
  },
  {
   "cell_type": "code",
   "execution_count": null,
   "id": "3648b147",
   "metadata": {},
   "outputs": [],
   "source": [
    "help(os)"
   ]
  },
  {
   "cell_type": "markdown",
   "id": "35f87f6f",
   "metadata": {},
   "source": [
    "## os库测试题\n",
    "\n",
    "选择题：\n",
    "\n",
    "1. `os`库用于什么目的？\n",
    "\n",
    "   a. 文件操作\n",
    "   \n",
    "   b. 网络通信\n",
    "   \n",
    "   c. 数据分析\n",
    "   \n",
    "   d. 图形界面\n",
    "\n",
    "2. 下面哪个函数可以用于创建目录？\n",
    "\n",
    "   a. `os.remove()`\n",
    "   \n",
    "   b. `os.mkdir()`\n",
    "   \n",
    "   c. `os.rename()`\n",
    "   \n",
    "   d. `os.path.join()`\n",
    "   \n",
    "\n",
    "3. `os.path.exists()`函数的作用是什么？\n",
    "\n",
    "   a. 判断文件或目录是否存在\n",
    "   \n",
    "   b. 获取文件的绝对路径\n",
    "   \n",
    "   c. 获取文件的大小\n",
    "   \n",
    "   d. 获取文件的扩展名\n",
    "\n"
   ]
  },
  {
   "cell_type": "markdown",
   "id": "117de845",
   "metadata": {},
   "source": [
    "# 文件读写操作\n",
    "\n",
    "文件内容读写是Python中常见的操作之一。以下是一些与文件内容读写相关的操作：\n",
    "\n",
    "1. 打开文件：使用`open()`函数打开文件，指定文件路径和打开模式（如读取模式r、写入模式w、追加模式a、可执行模式x等）。\n",
    "   ```python\n",
    "   file = open(\"file.txt\", \"r\")  # 以读取模式打开文件\n",
    "   ```\n",
    "\n",
    "2. 读取文件内容：使用`read()`或`readlines()`方法读取文件内容。\n",
    "   ```python\n",
    "   content = file.read()  # 读取整个文件内容\n",
    "   lines = file.readlines()  # 逐行读取文件内容，并返回一个包含所有行的列表\n",
    "   ```\n",
    "\n",
    "3. 写入文件内容：使用`write()`方法将数据写入文件。\n",
    "   ```python\n",
    "   file.write(\"Hello, World!\")  # 将指定内容写入文件\n",
    "   ```\n",
    "\n",
    "4. 关闭文件：使用`close()`方法关闭文件。\n",
    "   ```python\n",
    "   file.close()  # 关闭文件\n",
    "   ```\n",
    "\n",
    "5. 使用`with`语句自动关闭文件：使用`with`语句可以自动管理文件的打开和关闭。\n",
    "   ```python\n",
    "   with open(\"file.txt\", \"r\") as file:\n",
    "       content = file.read()  # 在with块中读取文件内容\n",
    "   # 在with块结束后，文件会自动关闭\n",
    "   ```\n",
    "\n",
    "6. 追加文件内容：使用`\"a\"`模式打开文件，并使用`write()`方法写入数据。\n",
    "   ```python\n",
    "   with open(\"file.txt\", \"a\") as file:\n",
    "       file.write(\"Appending new content\")  # 将指定内容追加到文件末尾\n",
    "   ```\n",
    "\n",
    "7. 文件位置操作：可以使用`seek()`方法调整文件指针的位置。\n",
    "   ```python\n",
    "   file.seek(0)  # 将文件指针移动到文件开头\n",
    "   ```\n",
    "\n",
    "以上是一些常见的文件内容读写操作。根据具体的需求，您可以选择适合的方法来读取和写入文件内容。"
   ]
  },
  {
   "cell_type": "markdown",
   "id": "7a0f4e96",
   "metadata": {},
   "source": [
    "## 文件相关测试题\n",
    "\n",
    "### 选择题：\n",
    "\n",
    "1. 文件读取的模式中，下列哪个选项表示以只读模式打开文件？\n",
    "\n",
    "   a) \"r\"\n",
    "   \n",
    "   b) \"w\"\n",
    "   \n",
    "   c) \"a\"\n",
    "   \n",
    "   d) \"x\"\n",
    "\n",
    "2. 下列哪个方法用于一次性读取整个文件内容？\n",
    "\n",
    "   a) `readline()`\n",
    "   \n",
    "   b) `readlines()`\n",
    "   \n",
    "   c) `read()`\n",
    "   \n",
    "   d) `write()`\n",
    "\n",
    "3. 使用`with`语句打开文件的好处是什么？\n",
    "\n",
    "   a) 可以自动将文件内容存储到变量中\n",
    "   \n",
    "   b) 可以自动关闭文件，无需手动调用`close()`方法\n",
    "   \n",
    "   c) 可以同时读取和写入文件内容\n",
    "   \n",
    "   d) 可以自动创建文件，如果文件不存在\n",
    "\n",
    "4. 使用`write()`方法写入文件时，默认情况下数据会被追加到文件的末尾。如果希望覆盖文件原有内容并写入新的数据，应该使用哪个模式打开文件？\n",
    "\n",
    "   a) \"r\"\n",
    "   \n",
    "   b) \"w\"\n",
    "   \n",
    "   c) \"a\"\n",
    "   \n",
    "   d) \"x\"\n",
    "\n",
    "5. 在文件读取过程中，可以使用`seek()`方法来调整文件指针的位置。下列哪个选项表示将文件指针移动到文件开头？\n",
    "\n",
    "   a) `seek(0)`\n",
    "   \n",
    "   b) `seek(1)`\n",
    "   \n",
    "   c) `seek(-1)`\n",
    "   \n",
    "   d) `seek(2)`\n",
    "\n",
    "## 编程题\n",
    "\n",
    "请编写一个程序，将用户输入的文本内容写入到一个名为\"output.txt\"的文件中。\n",
    "\n",
    "提示：\n",
    "- 使用`input()`函数获取用户输入的文本内容。\n",
    "- 使用`with`语句打开文件并将用户输入的内容写入到文件中。\n",
    "- 注意处理可能发生的异常情况，如文件打开失败或写入失败。"
   ]
  },
  {
   "cell_type": "markdown",
   "id": "a9571ea6",
   "metadata": {},
   "source": [
    "## sys模块\n",
    "\n",
    "`sys` 是 Python 的一个内置标准库，提供了与解释器相关的变量和函数。以下是 `sys` 模块中常用的函数列表：\n",
    "\n",
    "- `sys.argv`：命令行参数列表。\n",
    "- `sys.executable`：Python 解释器的可执行文件路径。\n",
    "- `sys.exit([arg])`：退出程序，并可选择返回指定的状态码。\n",
    "- `sys.getdefaultencoding()`：获取当前默认编码。\n",
    "- `sys.getfilesystemencoding()`：获取用于文件系统编码的默认编码。\n",
    "- `sys.getsizeof(object)`：返回对象的大小（以字节为单位）。\n",
    "- `sys.stdin`：标准输入流对象。\n",
    "- `sys.stdout`：标准输出流对象。\n",
    "- `sys.stderr`：标准错误流对象。\n",
    "- `sys.path`：包含要搜索模块的路径列表。\n",
    "- `sys.platform`：当前运行的平台名称。\n",
    "- `sys.version`：Python 解释器的版本信息。\n",
    "\n",
    "除了上述函数之外，`sys` 模块还提供了其他一些用于操作解释器和系统的函数。你可以通过 `dir(sys)` 查看完整的 `sys` 模块内容。\n",
    "\n",
    "需要注意的是，某些函数在不同的操作系统上可能会有所差异，因为它们涉及到底层系统相关的功能。在使用这些函数时，请参考官方文档以获取更详细和准确的信息。"
   ]
  },
  {
   "cell_type": "code",
   "execution_count": null,
   "id": "b67db505",
   "metadata": {},
   "outputs": [],
   "source": [
    "# sys.argv\n",
    "import sys\n",
    "print(sys.argv)"
   ]
  },
  {
   "cell_type": "code",
   "execution_count": null,
   "id": "66045ba1",
   "metadata": {},
   "outputs": [],
   "source": [
    "# sys.executable：Python 解释器的可执行文件路径。\n",
    "print(sys.executable)"
   ]
  },
  {
   "cell_type": "code",
   "execution_count": null,
   "id": "1c28e02e",
   "metadata": {},
   "outputs": [],
   "source": [
    "print(sys.getdefaultencoding())"
   ]
  },
  {
   "cell_type": "code",
   "execution_count": null,
   "id": "08631981",
   "metadata": {},
   "outputs": [],
   "source": [
    "# sys.getfilesystemencoding()：获取用于文件系统编码的默认编码。\n",
    "print(sys.getfilesystemencoding())"
   ]
  },
  {
   "cell_type": "code",
   "execution_count": 69,
   "id": "5b58ced2",
   "metadata": {
    "scrolled": true
   },
   "outputs": [
    {
     "name": "stdout",
     "output_type": "stream",
     "text": [
      "0123456789"
     ]
    }
   ],
   "source": [
    "# sys.stdin\n",
    "\n",
    "for line in sys.stdin:\n",
    "    print(line)\n",
    "\n",
    "for i in range(10):\n",
    "    sys.stdout.write(\"sssssss\") # byte\n",
    "    print(i, 1, True)"
   ]
  },
  {
   "cell_type": "markdown",
   "id": "275fc3af",
   "metadata": {},
   "source": [
    "## random库\n",
    "\n",
    "`random`库是Python中用于生成随机数的标准库，它提供了许多常用的随机数生成函数。以下是`random`库中常用的一些函数：\n",
    "\n",
    "1. `random.random()`: 生成一个0到1之间的随机浮点数。\n",
    "\n",
    "2. `random.randint(a, b)`: 生成一个在[a, b]范围内的随机整数。\n",
    "\n",
    "3. `random.uniform(a, b)`: 生成一个在[a, b]范围内的随机浮点数。\n",
    "\n",
    "4. `random.choice(seq)`: 从序列`seq`中随机选择一个元素。\n",
    "\n",
    "5. `random.sample(seq, k)`: 从序列`seq`中随机选择`k`个不重复的元素，返回一个列表。\n",
    "\n",
    "6. `random.shuffle(seq)`: 将序列`seq`中的元素随机打乱。\n",
    "\n",
    "7. `random.seed(x)`: 设置随机数种子，用于生成确定性的随机数序列。\n",
    "\n",
    "8. `random.getrandbits(k)`: 生成一个k位的随机整数。\n",
    "\n",
    "9. `random.randrange(start, stop, step)`: 在指定范围内按指定步长生成随机整数。\n",
    "\n",
    "以上是`random`库中的一些常用函数。使用这些函数可以方便地生成随机数，用于各种随机化需求，如模拟实验、随机抽样等。\n",
    "\n",
    "以下是`random`库的一些常用函数示例：\n",
    "\n",
    "```python\n",
    "import random\n",
    "\n",
    "# 生成一个0到1之间的随机浮点数\n",
    "random_float = random.random()\n",
    "print(\"随机浮点数:\", random_float)\n",
    "\n",
    "# 生成一个在[1, 10]范围内的随机整数\n",
    "random_int = random.randint(1, 10)\n",
    "print(\"随机整数:\", random_int)\n",
    "\n",
    "# 生成一个在[1, 100]范围内的随机浮点数\n",
    "random_uniform = random.uniform(1, 100)\n",
    "print(\"随机浮点数:\", random_uniform)\n",
    "\n",
    "# 从列表中随机选择一个元素\n",
    "fruits = ['apple', 'banana', 'orange', 'grape']\n",
    "random_fruit = random.choice(fruits)\n",
    "print(\"随机水果:\", random_fruit)\n",
    "\n",
    "# 从列表中随机选择两个不重复的元素\n",
    "random_fruits = random.sample(fruits, 2)\n",
    "print(\"随机水果列表:\", random_fruits)\n",
    "\n",
    "# 将列表中的元素随机打乱\n",
    "random.shuffle(fruits)\n",
    "print(\"打乱后的水果列表:\", fruits)\n",
    "\n",
    "# 设置随机数种子，保证随机数序列的可复现性\n",
    "random.seed(123)\n",
    "print(\"随机整数1:\", random.randint(1, 10))\n",
    "print(\"随机整数2:\", random.randint(1, 10))\n",
    "random.seed(123)\n",
    "print(\"再次生成随机整数1:\", random.randint(1, 10))\n",
    "print(\"再次生成随机整数2:\", random.randint(1, 10))\n",
    "\n",
    "# 生成一个10位的随机整数\n",
    "random_bits = random.getrandbits(10)\n",
    "print(\"10位随机整数:\", random_bits)\n",
    "\n",
    "# 在指定范围内按指定步长生成随机整数\n",
    "random_range = random.randrange(1, 10, 2)\n",
    "print(\"指定范围内按指定步长生成的随机整数:\", random_range)\n",
    "```\n",
    "\n",
    "运行以上代码，你会得到类似如下的输出结果：\n",
    "\n",
    "```\n",
    "随机浮点数: 0.7249510570816055\n",
    "随机整数: 5\n",
    "随机浮点数: 68.93909756151208\n",
    "随机水果: apple\n",
    "随机水果列表: ['banana', 'orange']\n",
    "打乱后的水果列表: ['grape', 'banana', 'apple', 'orange']\n",
    "随机整数1: 6\n",
    "随机整数2: 2\n",
    "再次生成随机整数1: 6\n",
    "再次生成随机整数2: 2\n",
    "10位随机整数: 77\n",
    "指定范围内按指定步长生成的随机整数: 7\n",
    "```"
   ]
  },
  {
   "cell_type": "markdown",
   "id": "f3479788",
   "metadata": {},
   "source": [
    "## math库\n",
    "\n",
    "`math`库是Python中的数学库，它提供了许多数学函数和常量。下面是`math`库中常用的一些函数：\n",
    "\n",
    "- `math.sqrt(x)`: 计算平方根。\n",
    "- `math.exp(x)`: 计算指数函数。\n",
    "- `math.log(x)`: 计算自然对数。\n",
    "- `math.log10(x)`: 计算以10为底的对数。\n",
    "- `math.ceil(x)`: 向上取整。\n",
    "- `math.floor(x)`: 向下取整。\n",
    "- `math.pow(x, y)`: 计算x的y次幂。\n",
    "- `math.sin(x)`: 计算正弦值。\n",
    "- `math.cos(x)`: 计算余弦值。\n",
    "- `math.tan(x)`: 计算正切值。\n",
    "- `math.radians(x)`: 将角度x转换为弧度。\n",
    "- `math.degrees(x)`: 将弧度x转换为角度。\n",
    "- `math.pi`: 圆周率π的值。\n",
    "- `math.e`: 自然对数的底e的值。\n",
    "\n",
    "这些函数可以用于数学计算和科学计算中的各种问题。"
   ]
  },
  {
   "cell_type": "code",
   "execution_count": 7,
   "id": "180dd7f7",
   "metadata": {},
   "outputs": [
    {
     "name": "stdout",
     "output_type": "stream",
     "text": [
      "绝对值: 5.0 5\n",
      "平方根: 5.0\n",
      "自然对数: 2.302585092994046\n",
      "以10为底的对数: 2.0\n",
      "向上取整: 5\n",
      "向下取整: 4\n",
      "四舍五入: 4\n",
      "最大值: 10\n",
      "最小值: 3\n",
      "指数: 7.38905609893065\n",
      "正弦值: 1.0\n",
      "余弦值: -1.0\n",
      "正切值: 0.9999999999999999\n",
      "弧度转换为角度: 180.0\n",
      "角度转换为弧度: 3.141592653589793\n"
     ]
    }
   ],
   "source": [
    "import math\n",
    "\n",
    "# 求绝对值\n",
    "abs_value = math.fabs(-5)\n",
    "print(\"绝对值:\", abs_value, abs(-5))\n",
    "\n",
    "# 求平方根\n",
    "sqrt_value = math.sqrt(25)\n",
    "print(\"平方根:\", sqrt_value)\n",
    "\n",
    "# 求自然对数\n",
    "log_value = math.log(10)\n",
    "print(\"自然对数:\", log_value)\n",
    "\n",
    "# 求以10为底的对数\n",
    "log10_value = math.log10(100)\n",
    "print(\"以10为底的对数:\", log10_value)\n",
    "\n",
    "# 向上取整\n",
    "ceil_value = math.ceil(4.2)\n",
    "print(\"向上取整:\", ceil_value)\n",
    "\n",
    "# 向下取整\n",
    "floor_value = math.floor(4.8)\n",
    "print(\"向下取整:\", floor_value)\n",
    "\n",
    "# 四舍五入\n",
    "round_value = round(4.5)\n",
    "print(\"四舍五入:\", round_value)\n",
    "\n",
    "# 求最大值\n",
    "max_value = max(5, 8, 3, 10)\n",
    "print(\"最大值:\", max_value)\n",
    "\n",
    "# 求最小值\n",
    "min_value = min(5, 8, 3, 10)\n",
    "print(\"最小值:\", min_value)\n",
    "\n",
    "# 求指数\n",
    "exp_value = math.exp(2)\n",
    "print(\"指数:\", exp_value)\n",
    "\n",
    "# 求正弦值\n",
    "sin_value = math.sin(math.pi/2)\n",
    "print(\"正弦值:\", sin_value)\n",
    "\n",
    "# 求余弦值\n",
    "cos_value = math.cos(math.pi)\n",
    "print(\"余弦值:\", cos_value)\n",
    "\n",
    "# 求正切值\n",
    "tan_value = math.tan(math.pi/4)\n",
    "print(\"正切值:\", tan_value)\n",
    "\n",
    "# 将弧度转换为角度\n",
    "degrees_value = math.degrees(math.pi)\n",
    "print(\"弧度转换为角度:\", degrees_value)\n",
    "\n",
    "# 将角度转换为弧度\n",
    "radians_value = math.radians(180)\n",
    "print(\"角度转换为弧度:\", radians_value)\n"
   ]
  },
  {
   "cell_type": "code",
   "execution_count": null,
   "id": "bf1bdc9f",
   "metadata": {},
   "outputs": [],
   "source": []
  }
 ],
 "metadata": {
  "kernelspec": {
   "display_name": "Python 3 (ipykernel)",
   "language": "python",
   "name": "python3"
  },
  "language_info": {
   "codemirror_mode": {
    "name": "ipython",
    "version": 3
   },
   "file_extension": ".py",
   "mimetype": "text/x-python",
   "name": "python",
   "nbconvert_exporter": "python",
   "pygments_lexer": "ipython3",
   "version": "3.10.9"
  }
 },
 "nbformat": 4,
 "nbformat_minor": 5
}
