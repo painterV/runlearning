{
 "cells": [
  {
   "cell_type": "markdown",
   "metadata": {},
   "source": [
    "# 本课内容\n",
    "\n",
    "- python基础库\n",
    "    - os库\n",
    "    - sys库\n",
    "    - datetime库\n",
    "    - math库"
   ]
  },
  {
   "cell_type": "code",
   "execution_count": 1,
   "metadata": {},
   "outputs": [],
   "source": [
    "import os\n",
    "import sys\n",
    "import math\n",
    "import datetime\n",
    "import json\n",
    "import re\n",
    "import random\n",
    "import csv\n",
    "import sqlite3\n",
    "import pickle"
   ]
  },
  {
   "cell_type": "markdown",
   "metadata": {},
   "source": [
    "Python基础库是指Python语言自带的标准库，它包含了一些常用的模块和函数，可以直接在Python程序中使用，无需额外安装。下面是一些常见的Python基础库：\n",
    "\n",
    "1. **os**: 提供了与操作系统交互的功能，例如文件操作、目录操作、进程管理等。\n",
    "2. **sys**: 提供了与Python解释器和系统相关的功能，例如命令行参数、标准输入输出、异常处理等。\n",
    "3. **math**: 提供了数学相关的函数，例如数值运算、三角函数、指数对数、随机数等。\n",
    "4. **datetime**: 提供了日期和时间处理的功能，例如日期时间对象的创建、格式化、计算等。\n",
    "5. **json**: 提供了JSON数据的编码和解码功能，用于处理JSON格式的数据。\n",
    "6. **re**: 提供了正则表达式的功能，用于模式匹配和文本处理。\n",
    "7. **random**: 提供了生成随机数的功能，用于模拟、加密、游戏等领域。\n",
    "8. **csv**: 提供了CSV文件的读写功能，用于处理逗号分隔的数据文件。\n",
    "9. **sqlite3**: 提供了与SQLite数据库的交互功能，用于数据库操作。\n",
    "10. **pickle**: 提供了对象的序列化和反序列化功能，用于数据的存储和传输。\n",
    "\n",
    "以及collections、itertools、logging、argparse这些工具库\n",
    "\n",
    "这只是一部分Python基础库的示例，还有很多其他有用的库可供使用。你可以根据自己的需求选择适合的库来解决问题。"
   ]
  },
  {
   "cell_type": "code",
   "execution_count": null,
   "metadata": {},
   "outputs": [],
   "source": [
    "# 首先回顾一下库的调用\n",
    "\n",
    "# 第一步：导入\n",
    "import os\n",
    "\n",
    "# 第二步：调用\n",
    "os.path."
   ]
  }
 ],
 "metadata": {
  "kernelspec": {
   "display_name": "Python 3 (ipykernel)",
   "language": "python",
   "name": "python3"
  },
  "language_info": {
   "codemirror_mode": {
    "name": "ipython",
    "version": 3
   },
   "file_extension": ".py",
   "mimetype": "text/x-python",
   "name": "python",
   "nbconvert_exporter": "python",
   "pygments_lexer": "ipython3",
   "version": "3.10.9"
  }
 },
 "nbformat": 4,
 "nbformat_minor": 2
}
