{
 "cells": [
  {
   "cell_type": "code",
   "execution_count": 4,
   "id": "ac53b556",
   "metadata": {},
   "outputs": [],
   "source": []
  },
  {
   "cell_type": "code",
   "execution_count": 20,
   "id": "a161c9ae",
   "metadata": {},
   "outputs": [],
   "source": []
  },
  {
   "cell_type": "code",
   "execution_count": 19,
   "id": "8bf3e197",
   "metadata": {},
   "outputs": [],
   "source": [
    "\n"
   ]
  },
  {
   "cell_type": "code",
   "execution_count": 9,
   "id": "fc028008",
   "metadata": {},
   "outputs": [
    {
     "name": "stdout",
     "output_type": "stream",
     "text": [
      "200\n"
     ]
    }
   ],
   "source": [
    "# 读取学生成绩表\n",
    "filename = 'grades.txt'\n",
    "\n",
    "student_grade = {}\n",
    "with open(filename, 'r') as f:\n",
    "    for line in f.readlines():\n",
    "        if line.startswith('学号'):\n",
    "            continue\n",
    "        data = line.strip().split(',')\n",
    "        if len(data) < 5:\n",
    "            continue\n",
    "        sid = int(data[0])\n",
    "        math = int(data[1])\n",
    "        english = int(data[2])\n",
    "        chinese = int(data[3])\n",
    "        python = int(data[4])\n",
    "        grades = [math, english, chinese, python]\n",
    "        total = sum(grades)\n",
    "        average = total*1.0/len(grades)\n",
    "        grades.append(total)\n",
    "        grades.append(average)\n",
    "        \n",
    "        student_grade[sid] = grades\n",
    "print(len(student_grade))\n"
   ]
  },
  {
   "cell_type": "code",
   "execution_count": 11,
   "id": "914881d4",
   "metadata": {},
   "outputs": [
    {
     "name": "stdout",
     "output_type": "stream",
     "text": [
      "[90, 81, 84, 53, 308, 77.0]\n"
     ]
    }
   ],
   "source": [
    "# 统计每一位学生的总成绩和平均成绩\n",
    "\n",
    "print(student_grade[1])"
   ]
  },
  {
   "cell_type": "code",
   "execution_count": 15,
   "id": "fc13bda8",
   "metadata": {},
   "outputs": [
    {
     "name": "stdout",
     "output_type": "stream",
     "text": [
      "[(9, 100), (58, 100), (85, 100), (96, 100), (141, 100)]\n",
      "[(164, 95.25), (122, 93.25), (168, 92.5), (41, 90.5), (8, 88.75)]\n"
     ]
    }
   ],
   "source": [
    "# 统计数据成绩最高的前5名学生\n",
    "topk = 5\n",
    "sorted_g1 = sorted(student_grade.items(), key=lambda x: x[1][0], reverse=True)\n",
    "math_top_students = [(item[0],item[1][0]) for item in sorted_g1[0:topk]]\n",
    "print(math_top_students)\n",
    "\n",
    "\n",
    "# 统计平均成绩最高的前5名学生\n",
    "topk = 5\n",
    "sorted_g1 = sorted(student_grade.items(), key=lambda x: x[1][5], reverse=True)\n",
    "average_top_students = [(item[0],item[1][5]) for item in sorted_g1[0:topk]]\n",
    "print(average_top_students)"
   ]
  },
  {
   "cell_type": "code",
   "execution_count": 16,
   "id": "810861c9",
   "metadata": {},
   "outputs": [
    {
     "name": "stdout",
     "output_type": "stream",
     "text": [
      "[(8, 100), (48, 100), (83, 100), (102, 100), (171, 100), (172, 100), (6, 99), (69, 99), (70, 99), (152, 99)]\n"
     ]
    }
   ],
   "source": [
    "# 整理成通用函数\n",
    "def get_top(index, topk):\n",
    "    sorted_g1 = sorted(student_grade.items(), key=lambda x: x[1][index], reverse=True)\n",
    "    math_top_students = [(item[0],item[1][index]) for item in sorted_g1[0:topk]]\n",
    "    return math_top_students\n",
    "\n",
    "# 统计英语成绩最高的前10名学生\n",
    "print(get_top(1, 10))"
   ]
  },
  {
   "cell_type": "code",
   "execution_count": null,
   "id": "427c9ccf",
   "metadata": {},
   "outputs": [],
   "source": [
    "# 字符串的内置函数"
   ]
  }
 ],
 "metadata": {
  "kernelspec": {
   "display_name": "Python 3 (ipykernel)",
   "language": "python",
   "name": "python3"
  },
  "language_info": {
   "codemirror_mode": {
    "name": "ipython",
    "version": 3
   },
   "file_extension": ".py",
   "mimetype": "text/x-python",
   "name": "python",
   "nbconvert_exporter": "python",
   "pygments_lexer": "ipython3",
   "version": "3.10.9"
  }
 },
 "nbformat": 4,
 "nbformat_minor": 5
}
