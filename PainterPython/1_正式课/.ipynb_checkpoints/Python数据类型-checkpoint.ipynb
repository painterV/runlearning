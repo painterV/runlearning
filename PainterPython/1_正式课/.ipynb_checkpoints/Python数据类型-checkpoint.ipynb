{
 "cells": [
  {
   "cell_type": "markdown",
   "id": "f1f6682a",
   "metadata": {},
   "source": [
    "# 本课内容\n",
    "\n",
    "- python基本数据类型回顾\n",
    "- Python复合数据类型\n",
    "    - 列表\n",
    "        - 定义、功能、常用方法\n",
    "        - 相关测试题\n",
    "    - 字典\n",
    "        - 定义、功能、常用方法\n",
    "        - 相关测试题\n",
    "    - 集合\n",
    "        - 定义、功能、常用方法\n",
    "        - 相关测试题\n",
    "    - 元组\n",
    "        - 定义、功能、常用方法\n",
    "        - 相关测试题\n",
    "- Python os库的使用"
   ]
  },
  {
   "cell_type": "markdown",
   "id": "6cdad283",
   "metadata": {},
   "source": [
    "## Python基本数据类型(2-3min)\n",
    "\n",
    "在Python中，有几种常见的基本数据类型，包括整型（int）、浮点型（float）、字符串（str）、布尔型（bool）和复数（complex）。\n",
    "\n",
    "1. 整型（int）：\n",
    "   - 整型用于表示整数，即没有小数部分的数值。\n",
    "   - 整型可以是正数、负数或零。\n",
    "   - 例如：`-10`、`0`、`100` 等。\n",
    "\n",
    "2. 浮点型（float）：\n",
    "   - 浮点型用于表示带有小数部分的数值。\n",
    "   - 浮点型数值可以是正数、负数或零。\n",
    "   - 浮点型数值可以使用科学计数法表示，例如 `3.14e-2` 表示 0.0314。\n",
    "   - 例如：`3.14`、`-2.5`、`0.0` 等。\n",
    "\n",
    "3. 字符串（str）：\n",
    "   - 字符串用于表示文本数据，由一系列字符组成。\n",
    "   - 字符串使用引号（单引号或双引号或者三引号）括起来。\n",
    "   - 字符串可以包含任意字符，包括字母、数字、符号等。\n",
    "   - 例如：`'Hello, world!'`、`\"Python is fun\"`、`'''This is a comment'''` 等。\n",
    "\n",
    "4. 布尔型（bool）：\n",
    "   - 布尔型用于表示真或假的值。\n",
    "   - 布尔型只有两个取值，即 `True` 和 `False`。\n",
    "   - 布尔型常用于条件判断和逻辑运算。\n",
    "   - 例如：`True`、`False`。\n",
    "\n",
    "5. 复数（complex）：\n",
    "   - 复数用于表示具有实部和虚部的数值。\n",
    "   - 复数由实部和虚部构成，形式为 `a + bj`，其中 `a` 是实部，`b` 是虚部，`j` 表示虚数单位。\n",
    "   - 例如：`3 + 2j`、`-1.5 - 0.5j` 等。\n",
    "\n",
    "这些基本数据类型在Python中广泛应用，用于表示和处理不同类型的数据。了解这些数据类型以及它们的特点，有助于在编程过程中选择合适的数据类型并正确地处理数据。"
   ]
  },
  {
   "cell_type": "code",
   "execution_count": 260,
   "id": "d9c56fe5",
   "metadata": {},
   "outputs": [
    {
     "name": "stdout",
     "output_type": "stream",
     "text": [
      "这是整数 1 <class 'int'>\n",
      "这是小数 3.1415926 <class 'float'>\n",
      "这是字符串 my name <class 'str'>\n",
      "这是布尔值 True <class 'bool'>\n",
      "这是复数的实部和虚部 1.0 2.0 <class 'complex'>\n"
     ]
    }
   ],
   "source": [
    "# Python中的基本数据类型\n",
    "\n",
    "# 整数\n",
    "a = 1\n",
    "print(\"这是整数\", a, type(a))\n",
    "# 浮点数（就是小数）\n",
    "b = 3.1415926\n",
    "print(\"这是小数\", b, type(b))\n",
    "\n",
    "# 字符串\n",
    "c = \"my name\"\n",
    "print(\"这是字符串\", c, type(c))\n",
    "\n",
    "\n",
    "# 布尔型（真、假 True/False\n",
    "isStudent = True\n",
    "print(\"这是布尔值\", isStudent, type(isStudent))\n",
    "\n",
    "# 复数 1 + 2i\n",
    "d = complex(1, 2)\n",
    "print(\"这是复数的实部和虚部\", d.real, d.imag, type(d))"
   ]
  },
  {
   "cell_type": "markdown",
   "id": "476373ef",
   "metadata": {},
   "source": [
    "## Python复合数据类型(5min)\n",
    "\n",
    "在Python中，列表（list）、字典（dict）和集合（set）都是常见的数据结构，用于存储和操作数据。\n",
    "\n",
    "1. 列表（list）：\n",
    "   - 列表是一种有序的可变序列，可以存储任意类型的元素。\n",
    "   - 列表使用方括号 `[]` 来表示，元素之间用逗号 `,` 分隔。\n",
    "   - 列表可以通过索引访问和修改其中的元素，索引从0开始。\n",
    "   - 列表支持多种操作，如添加元素、删除元素、切片、排序等。\n",
    "\n",
    "2. 字典（dict）：\n",
    "   - 字典是一种无序的键值对（key-value）集合。\n",
    "   - 字典使用花括号 `{}` 来表示，每个键值对之间用冒号 `:` 分隔，键和值之间用逗号 `,` 分隔。\n",
    "   - 字典中的键必须是唯一的，而值可以是任意类型的对象。\n",
    "   - 字典可以通过键来访问和修改对应的值。\n",
    "   - 字典支持添加键值对、删除键值对、获取所有键或值的列表等操作。\n",
    "\n",
    "3. 集合（set）：\n",
    "   - 集合是一种无序的、不重复的元素集合。\n",
    "   - 集合使用花括号 `{}` 来表示，元素之间用逗号 `,` 分隔。\n",
    "   - 集合中的元素必须是可哈希的（不可变类型），例如数字、字符串、元组等。\n",
    "   - 集合支持集合间的交集、并集、差集等操作，还可以添加元素、删除元素等。\n",
    "   \n",
    "4. 元组（tuple）：\n",
    "    - 元组是一种有序的、不可变的数据结构，用于存储多个元素。\n",
    "    - 元组使用小括号`()`来表示，元素之间用逗号`,`分隔。\n",
    "\n",
    "这些数据结构在Python中非常常用，它们提供了灵活的数据存储和操作方式，适用于不同的应用场景。通过合理地使用列表、字典和集合，可以高效地处理和组织数据。\n",
    "\n",
    "下面我们来看一些例子，通过例子来了解这些数据结构在实际是怎么使用的。"
   ]
  },
  {
   "cell_type": "code",
   "execution_count": 261,
   "id": "66f0b386",
   "metadata": {},
   "outputs": [
    {
     "name": "stdout",
     "output_type": "stream",
     "text": [
      "这是列表： [1, 2, 3, 4, 5, 1, 2, 3, 4, 5, 8, 9, 10] <class 'list'>\n",
      "<class 'int'>\n",
      "<class 'float'>\n",
      "<class 'bool'>\n",
      "<class 'str'>\n",
      "<class 'list'>\n"
     ]
    }
   ],
   "source": [
    "# 一：列表\n",
    "\n",
    "# 列表的声明或者初始化\n",
    "\n",
    "# 1.声明一个空的列表\n",
    "my_list1 = []\n",
    "\n",
    "# 2.声明一个列表，并初始化其元素\n",
    "my_list = [1,2,3,4,5, 1,2,3,4,5,8,9,10]\n",
    "print(\"这是列表：\", my_list, type(my_list))\n",
    "\n",
    "# 在python中，我们可以使用type(变量名或者常亮)来查看指定变量的类型（int/float/str/bool/list/dict/tuple）\n",
    "# 例如：\n",
    "print(type(1))\n",
    "a = 2.3\n",
    "print(type(a))\n",
    "b = True\n",
    "print(type(b))\n",
    "print(type(\"this is a string\"))\n",
    "print(type([\"this\", \"is\", \"a\", \"string\"]))"
   ]
  },
  {
   "cell_type": "markdown",
   "id": "8e25240f",
   "metadata": {},
   "source": [
    "## 列表的常用操作(8min)\n",
    "\n",
    "Python 中的列表（List）是一种有序、可变的数据结构，用于存储多个元素。列表使用方括号 `[]` 表示，元素之间使用逗号 `,` 分隔。\n",
    "\n",
    "列表的常用方法包括：\n",
    "\n",
    "1. 索引访问：使用索引号获取列表中的元素，索引号从 0 开始。例如，`my_list[0]` 表示获取列表 `my_list` 中的第一个元素。\n",
    "2. 切片操作：通过切片操作获取列表的子集。例如，`my_list[1:4]` 表示获取列表 `my_list` 中索引从 1 到 3 的元素。\n",
    "3. 元素个数：使用 `len()` 函数获取列表中元素的个数，例如，`len(my_list)` 表示获取列表 `my_list` 中元素的个数。\n",
    "4. 元素是否存在：使用 `in` 关键字判断元素是否存在于列表中。例如，`element in my_list` 表示判断元素 `element` 是否存在于列表 `my_list` 中。\n",
    "5. 添加元素：使用 `append()` 方法在列表末尾添加一个元素，例如，`my_list.append(element)` 表示将元素 `element` 添加到列表 `my_list` 的末尾。\n",
    "6. 插入元素：使用 `insert()` 方法在指定位置插入一个元素，例如，`my_list.insert(index, element)` 表示在列表 `my_list` 的 `index` 位置插入元素 `element`。\n",
    "7. 删除元素：使用 `remove()` 方法删除列表中的指定元素，例如，`my_list.remove(element)` 表示删除列表 `my_list` 中的元素 `element`。\n",
    "8. 弹出元素：使用 `pop()` 方法从列表中弹出（删除并返回）指定位置的元素，例如，`my_list.pop(index)` 表示弹出列表 `my_list` 中索引为 `index` 的元素。\n",
    "9. 列表排序：使用 `sort()` 方法对列表进行原地排序，例如，`my_list.sort()` 表示对列表 `my_list` 进行排序。\n",
    "10. 列表反转：使用 `reverse()` 方法反转列表中的元素顺序，例如，`my_list.reverse()` 表示反转列表 `my_list` 中的元素顺序。\n",
    "\n",
    "这些是列表的一些常用方法和操作。希望对你有所帮助。如有其他问题，请随时提问。\n"
   ]
  },
  {
   "cell_type": "code",
   "execution_count": 262,
   "id": "781bba72",
   "metadata": {},
   "outputs": [
    {
     "name": "stdout",
     "output_type": "stream",
     "text": [
      "列表my_list值： [1, 2, 3, 4, 5, 1, 2, 3, 4, 5, 8, 9, 10]\n"
     ]
    }
   ],
   "source": [
    "# 0.打印列表\n",
    "print(\"列表my_list值：\", my_list)"
   ]
  },
  {
   "cell_type": "code",
   "execution_count": 263,
   "id": "e2fd783f",
   "metadata": {},
   "outputs": [
    {
     "name": "stdout",
     "output_type": "stream",
     "text": [
      "访问my_list的第三个元素： 3\n"
     ]
    }
   ],
   "source": [
    "# 1.索引访问\n",
    "print(\"访问my_list的第三个元素：\", my_list[2])\n"
   ]
  },
  {
   "cell_type": "code",
   "execution_count": 264,
   "id": "41a88c77",
   "metadata": {},
   "outputs": [
    {
     "name": "stdout",
     "output_type": "stream",
     "text": [
      "my_list的索引从1到3的元素 [2, 3, 4]\n"
     ]
    }
   ],
   "source": [
    "# 2.切片操作\n",
    "print(\"my_list的索引从1到3的元素\", my_list[1:4])"
   ]
  },
  {
   "cell_type": "code",
   "execution_count": 265,
   "id": "f2140a56",
   "metadata": {},
   "outputs": [
    {
     "name": "stdout",
     "output_type": "stream",
     "text": [
      "my_list列表的元素个数： 13\n"
     ]
    }
   ],
   "source": [
    "# 3.元素个数\n",
    "print(\"my_list列表的元素个数：\", len(my_list))\n"
   ]
  },
  {
   "cell_type": "code",
   "execution_count": 266,
   "id": "37ef41e3",
   "metadata": {},
   "outputs": [
    {
     "name": "stdout",
     "output_type": "stream",
     "text": [
      "my_list1里有元素1吗？ 答案是： False\n"
     ]
    }
   ],
   "source": [
    "# 4.元素是否存在\n",
    "is_exist = 1 in my_list1\n",
    "print(\"my_list1里有元素1吗？ 答案是：\", is_exist)\n"
   ]
  },
  {
   "cell_type": "code",
   "execution_count": 267,
   "id": "b696cea6",
   "metadata": {},
   "outputs": [
    {
     "name": "stdout",
     "output_type": "stream",
     "text": [
      "添加1000后，my_list列表的值： [1, 2, 3, 4, 5, 1, 2, 3, 4, 5, 8, 9, 10, 1000]\n"
     ]
    }
   ],
   "source": [
    "# 5.添加元素\n",
    "my_list.append(1000)\n",
    "print(\"添加1000后，my_list列表的值：\", my_list)\n"
   ]
  },
  {
   "cell_type": "code",
   "execution_count": 268,
   "id": "0875c462",
   "metadata": {},
   "outputs": [
    {
     "name": "stdout",
     "output_type": "stream",
     "text": [
      "在索引4这个位置插入4000后，my_list列表的值： [1, 2, 3, 4, 4000, 5, 1, 2, 3, 4, 5, 8, 9, 10, 1000]\n"
     ]
    }
   ],
   "source": [
    "# 6.插入元素\n",
    "my_list.insert(4, 4000)\n",
    "print(\"在索引4这个位置插入4000后，my_list列表的值：\", my_list)\n"
   ]
  },
  {
   "cell_type": "code",
   "execution_count": 269,
   "id": "ac0c3d3e",
   "metadata": {},
   "outputs": [
    {
     "name": "stdout",
     "output_type": "stream",
     "text": [
      "删除元素1前，my_list列表的值： [1, 2, 3, 4, 4000, 5, 1, 2, 3, 4, 5, 8, 9, 10, 1000]\n",
      "删除元素1后，my_list列表的值： [2, 3, 4, 4000, 5, 1, 2, 3, 4, 5, 8, 9, 10, 1000]\n",
      "[]\n"
     ]
    }
   ],
   "source": [
    "# 7.删除元素\n",
    "#注意1:只会删除第一个元素1，如果后续还有1则不会删除\n",
    "#注意2:如果要删除的元素本来在列表中就不存在，则会报错，请使用 5000来演示\n",
    "print(\"删除元素1前，my_list列表的值：\", my_list)\n",
    "my_list.remove(1)\n",
    "print(\"删除元素1后，my_list列表的值：\", my_list)\n",
    "\n",
    "# 若想删除列表中所有的指定元素，则需要使用下面代码来实现：\n",
    "new_list = [2, 2, 2, 2, 2, 2, 2]\n",
    "element = 2\n",
    "# 注意这里要想删除掉所有的2，必须使用while，而不能使用for\n",
    "while element in new_list:\n",
    "    new_list.remove(element)\n",
    "print(new_list) # 结果应该是空列表\n",
    "\n"
   ]
  },
  {
   "cell_type": "code",
   "execution_count": 270,
   "id": "262ab883",
   "metadata": {},
   "outputs": [
    {
     "name": "stdout",
     "output_type": "stream",
     "text": [
      "从my_list中弹出并删除索引4的元素 5\n"
     ]
    }
   ],
   "source": [
    "# 8.弹出元素\n",
    "x = my_list.pop(4)\n",
    "print(\"从my_list中弹出并删除索引4的元素\", x)\n"
   ]
  },
  {
   "cell_type": "code",
   "execution_count": 277,
   "id": "30f8933b",
   "metadata": {},
   "outputs": [
    {
     "name": "stdout",
     "output_type": "stream",
     "text": [
      "原地排序后列表值为： [1, 2, 2, 3, 3, 4, 4, 5, 5, 8, 9, 10, 1000, 4000]\n",
      "原地逆序排序后列表值为： [4000, 1000, 10, 9, 8, 5, 5, 4, 4, 3, 3, 2, 2, 1]\n",
      "原始列表: [2, 5, 1, 9, 3, 10, 8, 10, 100, 0, 5]\n",
      "从大到小排序后列表: [100, 10, 10, 9, 8, 5, 5, 3, 2, 1, 0]\n"
     ]
    }
   ],
   "source": [
    "# 9.列表排序\n",
    "# int/float排序顺序默认为由小到大\n",
    "my_list = [2, 3, 4, 4000, 5, 1, 2, 3, 4, 5, 8, 9, 10, 1000]\n",
    "my_list.sort()\n",
    "print(\"原地排序后列表值为：\", my_list)\n",
    "\n",
    "# 逆序：从大到小（int）\n",
    "my_list.sort(reverse=True)\n",
    "print(\"原地逆序排序后列表值为：\", my_list)\n",
    "\n",
    "# 上述排序在原来的列表原地排序（就是说改变了原来的列表）\n",
    "# 如果不想改变原来的列表，我们使用排序函数sorted\n",
    "ori_list = [2,5,1,9,3,10, 8, 10, 100, 0, 5]\n",
    "new_sorted_list = sorted(ori_list, reverse=True)\n",
    "print(\"原始列表:\", ori_list)\n",
    "print(\"从大到小排序后列表:\", new_sorted_list)\n"
   ]
  },
  {
   "cell_type": "code",
   "execution_count": 272,
   "id": "4f965297",
   "metadata": {},
   "outputs": [
    {
     "name": "stdout",
     "output_type": "stream",
     "text": [
      "反转后的str_list:  ['string', 'a', 'is', 'This']\n",
      "反转后的str_list2:  ['string', 'a', 'is', 'This']\n"
     ]
    }
   ],
   "source": [
    "# 10.列表反转\n",
    "str_list = [\"This\", \"is\", \"a\", \"string\"]\n",
    "str_list.reverse()\n",
    "print(\"反转后的str_list: \", str_list)\n",
    "\n",
    "## 另外一种反转列表的方法：使用切片的方法\n",
    "str_list2 = [\"This\", \"is\", \"a\", \"string\"]\n",
    "print(\"反转后的str_list2: \", str_list2[::-1])\n"
   ]
  },
  {
   "cell_type": "code",
   "execution_count": 273,
   "id": "bc4f5508",
   "metadata": {},
   "outputs": [
    {
     "name": "stdout",
     "output_type": "stream",
     "text": [
      "4000\n",
      "1000\n",
      "10\n",
      "9\n",
      "8\n",
      "5\n",
      "4\n",
      "4\n",
      "3\n",
      "3\n",
      "2\n",
      "2\n",
      "1\n",
      "4000\n",
      "1000\n",
      "10\n",
      "9\n",
      "8\n",
      "5\n",
      "4\n",
      "4\n",
      "3\n",
      "3\n",
      "2\n",
      "2\n",
      "1\n"
     ]
    }
   ],
   "source": [
    "# 11.遍历列表\n",
    "\n",
    "for item in my_list:\n",
    "    print(item)\n",
    "\n",
    "    \n",
    "for i in range(len(my_list)):\n",
    "    print(my_list[i])\n",
    "    "
   ]
  },
  {
   "cell_type": "code",
   "execution_count": 274,
   "id": "2fc45af5",
   "metadata": {},
   "outputs": [
    {
     "ename": "NameError",
     "evalue": "name 'my_list' is not defined",
     "output_type": "error",
     "traceback": [
      "\u001b[0;31m---------------------------------------------------------------------------\u001b[0m",
      "\u001b[0;31mNameError\u001b[0m                                 Traceback (most recent call last)",
      "Cell \u001b[0;32mIn[274], line 3\u001b[0m\n\u001b[1;32m      1\u001b[0m \u001b[38;5;66;03m# 12.删除列表\u001b[39;00m\n\u001b[1;32m      2\u001b[0m \u001b[38;5;28;01mdel\u001b[39;00m my_list\n\u001b[0;32m----> 3\u001b[0m \u001b[38;5;28mprint\u001b[39m(\u001b[43mmy_list\u001b[49m)\n",
      "\u001b[0;31mNameError\u001b[0m: name 'my_list' is not defined"
     ]
    }
   ],
   "source": [
    "# 12.删除列表\n",
    "del my_list\n",
    "print(my_list) #删除后再访问列表会报错"
   ]
  },
  {
   "cell_type": "markdown",
   "id": "f391d3ee",
   "metadata": {},
   "source": [
    "## 列表小测试(2min)\n",
    "\n",
    "- 判断题：\n",
    "    - 列表是无序的。\n",
    "    - 列表是不可变的。\n",
    "    - 列表中允许存在重复的元素。\n",
    "    - 同一个列表中，可以同时存在字符串元素和整数元素。\n",
    "- 填空题：（根据功能描述，完善空白行里的代码）\n",
    "    1. 新建一个包含元素`1,2,3`的列表，并命名为：test。 \n",
    "    `test = ___`\n",
    "    2. 检查元素`4`是否存在于test中，如果不存在，则插入到第0个索引位置。若存在，则在列表尾端增加一个新元素5\n",
    "    \n",
    "    ```python\n",
    "    if _____:\n",
    "        test.insert(___)\n",
    "    else:\n",
    "        test.____(5)\n",
    "    ```\n",
    "\n",
    "- 代码bugfix (遍历数组a，并打印每个元素的索引和该元素值)\n",
    "    ```python\n",
    "    a = [3, 5, 9, 10, 2, 3, 4]\n",
    "#     while i in range(length(a)):\n",
    "#         print(i, a[i])\n",
    "    for key in a:\n",
    "        print(key)\n",
    "    \n",
    "    l = 7\n",
    "    for i in range(7):\n",
    "        print(i, a[i])\n",
    "    \n",
    "    i = 0\n",
    "    while i < len(a):\n",
    "        print(i, a[i])\n",
    "        i += 1\n",
    "    ```"
   ]
  },
  {
   "cell_type": "markdown",
   "id": "a29e5f0f",
   "metadata": {},
   "source": [
    "## 字典的常用方法(8min)\n",
    "\n",
    "字典是Python中常用的数据结构之一，它使用键-值对的形式存储数据。下面是字典的一些常用操作：\n",
    "\n",
    "1. 创建字典：\n",
    "\n",
    "   ```python\n",
    "   my_dict = {}  # 空字典\n",
    "   my_dict = {'key1': 'value1', 'key2': 'value2', 'key3': 'value3'}  # 初始化字典\n",
    "   ```\n",
    "\n",
    "2. 访问字典中的值：\n",
    "\n",
    "   ```python\n",
    "   value = my_dict['key']  # 通过键访问对应的值\n",
    "   ```\n",
    "\n",
    "3. 修改字典中的值：\n",
    "\n",
    "   ```python\n",
    "   my_dict['key'] = 'new value'  # 通过键修改对应的值\n",
    "   ```\n",
    "\n",
    "4. 添加新的键值对：\n",
    "\n",
    "   ```python\n",
    "   my_dict['new_key'] = 'new value'  # 添加新的键值对\n",
    "   ```\n",
    "\n",
    "5. 删除键值对：\n",
    "\n",
    "   ```python\n",
    "   del my_dict['key']  # 删除指定的键值对\n",
    "   my_dict.clear()  # 清空字典中的所有键值对\n",
    "   del my_dict  # 删除整个字典\n",
    "   ```\n",
    "\n",
    "6. 遍历字典：\n",
    "\n",
    "   ```python\n",
    "   for key in my_dict:  # 遍历字典的键\n",
    "       value = my_dict[key]  # 获取对应的值\n",
    "\n",
    "   for key, value in my_dict.items():  # 遍历字典的键值对\n",
    "       # 处理键值对\n",
    "   ```\n",
    "\n",
    "7. 检查键是否存在：\n",
    "\n",
    "   ```python\n",
    "   if 'key' in my_dict:  # 检查指定的键是否存在\n",
    "       # 键存在的处理逻辑\n",
    "\n",
    "   if 'value' in my_dict.values():  # 检查指定的值是否存在\n",
    "       # 值存在的处理逻辑\n",
    "   ```\n",
    "\n",
    "8. 获取字典的长度：\n",
    "\n",
    "   ```python\n",
    "   length = len(my_dict)  # 获取字典中键值对的数量\n",
    "   ```\n",
    "\n",
    "以上是字典的一些常用操作，通过这些操作可以对字典进行增删改查等操作。希望这对你有帮助。如有更多问题，请随时提问。"
   ]
  },
  {
   "cell_type": "code",
   "execution_count": 279,
   "id": "c7eb4976",
   "metadata": {},
   "outputs": [],
   "source": [
    "# 1. 新建字典（声明、初始化）\n",
    "# my_dict = {}\n",
    "my_dict = {1:\"one\", 2:\"two\", 3:\"three\", 4:\"four\", 5:\"five\", 6:\"six\", 7:\"Seven\"}\n"
   ]
  },
  {
   "cell_type": "code",
   "execution_count": 280,
   "id": "afb805b4",
   "metadata": {},
   "outputs": [
    {
     "name": "stdout",
     "output_type": "stream",
     "text": [
      "one\n"
     ]
    }
   ],
   "source": [
    "# 2. 访问字典的值\n",
    "print(my_dict[1])\n"
   ]
  },
  {
   "cell_type": "code",
   "execution_count": 281,
   "id": "b7b3431d",
   "metadata": {},
   "outputs": [
    {
     "name": "stdout",
     "output_type": "stream",
     "text": [
      "{1: 'one', 2: 'two', 3: 'three', 4: 'four', 5: 'five', 6: 'six', 7: 'seven'}\n"
     ]
    }
   ],
   "source": [
    "# 3. 修改字典中的值\n",
    "my_dict[7] = \"seven\"\n",
    "print(my_dict)"
   ]
  },
  {
   "cell_type": "code",
   "execution_count": 282,
   "id": "701610f5",
   "metadata": {},
   "outputs": [
    {
     "name": "stdout",
     "output_type": "stream",
     "text": [
      "{1: 'one', 2: 'two', 3: 'three', 4: 'four', 5: 'five', 6: 'six', 7: 'seven', 8: 'eight'}\n"
     ]
    }
   ],
   "source": [
    "# 4. 添加新的键值对\n",
    "my_dict[8] = \"eight\"\n",
    "print(my_dict)"
   ]
  },
  {
   "cell_type": "code",
   "execution_count": 283,
   "id": "726b0073",
   "metadata": {},
   "outputs": [
    {
     "name": "stdout",
     "output_type": "stream",
     "text": [
      "<class 'dict_items'> dict_items([(1, 'one'), (2, 'two'), (3, 'three'), (4, 'four'), (5, 'five'), (6, 'six'), (7, 'seven'), (8, 'eight')])\n",
      "(1, 'one') 1 one\n",
      "(2, 'two') 2 two\n",
      "(3, 'three') 3 three\n",
      "(4, 'four') 4 four\n",
      "(5, 'five') 5 five\n",
      "(6, 'six') 6 six\n",
      "(7, 'seven') 7 seven\n",
      "(8, 'eight') 8 eight\n"
     ]
    }
   ],
   "source": [
    "# 5. 获取字典的所有项目\n",
    "items = my_dict.items()\n",
    "print(type(items), items)\n",
    "\n",
    "for item in items:\n",
    "    print(item, end=' ')\n",
    "    key = item[0]\n",
    "    value = item[1]\n",
    "    print(key, value)"
   ]
  },
  {
   "cell_type": "code",
   "execution_count": 284,
   "id": "316facc4",
   "metadata": {},
   "outputs": [
    {
     "name": "stdout",
     "output_type": "stream",
     "text": [
      "<class 'dict_keys'> dict_keys([1, 2, 3, 4, 5, 6, 7, 8])\n",
      "1\n",
      "2\n",
      "3\n",
      "4\n",
      "5\n",
      "6\n",
      "7\n",
      "8\n"
     ]
    }
   ],
   "source": [
    "# 6. 获取字典的所有键\n",
    "keys = my_dict.keys()\n",
    "print(type(keys), keys)\n",
    "\n",
    "for k in keys:\n",
    "    print(k)"
   ]
  },
  {
   "cell_type": "code",
   "execution_count": 285,
   "id": "2a11b573",
   "metadata": {},
   "outputs": [
    {
     "name": "stdout",
     "output_type": "stream",
     "text": [
      "10 不存在于字典中\n"
     ]
    }
   ],
   "source": [
    "# 7. 检查key是否在字典中:\n",
    "key = 10\n",
    "if key in my_dict:\n",
    "    print(f\"{key} 存在于字典中\")\n",
    "else:\n",
    "    print(f\"{key} 不存在于字典中\")\n"
   ]
  },
  {
   "cell_type": "code",
   "execution_count": 286,
   "id": "fe42c3d5",
   "metadata": {},
   "outputs": [
    {
     "name": "stdout",
     "output_type": "stream",
     "text": [
      "<class 'dict_values'> dict_values(['one', 'two', 'three', 'four', 'five', 'six', 'seven', 'eight'])\n",
      "one\n",
      "two\n",
      "three\n",
      "four\n",
      "five\n",
      "six\n",
      "seven\n",
      "eight\n"
     ]
    }
   ],
   "source": [
    "# 8. 获取字典的所有值\n",
    "values = my_dict.values()\n",
    "print(type(values), values)\n",
    "for v in values:\n",
    "    print(v)"
   ]
  },
  {
   "cell_type": "code",
   "execution_count": 287,
   "id": "300fdce2",
   "metadata": {},
   "outputs": [
    {
     "name": "stdout",
     "output_type": "stream",
     "text": [
      "字典第一种遍历方法\n",
      "1 one\n",
      "2 two\n",
      "3 three\n",
      "4 four\n",
      "5 five\n",
      "6 six\n",
      "7 seven\n",
      "8 eight\n",
      "字典第二种遍历方法\n",
      "1 one\n",
      "2 two\n",
      "3 three\n",
      "4 four\n",
      "5 five\n",
      "6 six\n",
      "7 seven\n",
      "8 eight\n"
     ]
    }
   ],
   "source": [
    "# 9. 遍历字典\n",
    "print(\"字典第一种遍历方法\")\n",
    "for key in my_dict:\n",
    "    value = my_dict[key]\n",
    "    print(key, value)\n",
    "\n",
    "print(\"字典第二种遍历方法\")\n",
    "for key, value in my_dict.items():\n",
    "    print(key, value)\n",
    "    "
   ]
  },
  {
   "cell_type": "code",
   "execution_count": 288,
   "id": "b4b6b291",
   "metadata": {},
   "outputs": [
    {
     "name": "stdout",
     "output_type": "stream",
     "text": [
      "8\n"
     ]
    }
   ],
   "source": [
    "# 10. 获取字典的长度\n",
    "print(len(my_dict))"
   ]
  },
  {
   "cell_type": "code",
   "execution_count": 292,
   "id": "63c69700",
   "metadata": {},
   "outputs": [
    {
     "ename": "NameError",
     "evalue": "name 'my_dict' is not defined",
     "output_type": "error",
     "traceback": [
      "\u001b[0;31m---------------------------------------------------------------------------\u001b[0m",
      "\u001b[0;31mNameError\u001b[0m                                 Traceback (most recent call last)",
      "Cell \u001b[0;32mIn[292], line 2\u001b[0m\n\u001b[1;32m      1\u001b[0m \u001b[38;5;66;03m# 11. 删除键\u001b[39;00m\n\u001b[0;32m----> 2\u001b[0m \u001b[38;5;28;01mdel\u001b[39;00m \u001b[43mmy_dict\u001b[49m[\u001b[38;5;241m3\u001b[39m]\n\u001b[1;32m      3\u001b[0m \u001b[38;5;28mprint\u001b[39m(my_dict)\n",
      "\u001b[0;31mNameError\u001b[0m: name 'my_dict' is not defined"
     ]
    }
   ],
   "source": [
    "# 11. 删除键\n",
    "del my_dict[3]\n",
    "print(my_dict)"
   ]
  },
  {
   "cell_type": "code",
   "execution_count": 290,
   "id": "b282458e",
   "metadata": {},
   "outputs": [
    {
     "name": "stdout",
     "output_type": "stream",
     "text": [
      "{}\n"
     ]
    }
   ],
   "source": [
    "# 12. 删除所有键值对\n",
    "my_dict.clear() #清空后，字典还存在，但其中没有键值元素了\n",
    "print(my_dict)"
   ]
  },
  {
   "cell_type": "code",
   "execution_count": 291,
   "id": "c9d455ba",
   "metadata": {},
   "outputs": [
    {
     "ename": "NameError",
     "evalue": "name 'my_dict' is not defined",
     "output_type": "error",
     "traceback": [
      "\u001b[0;31m---------------------------------------------------------------------------\u001b[0m",
      "\u001b[0;31mNameError\u001b[0m                                 Traceback (most recent call last)",
      "Cell \u001b[0;32mIn[291], line 3\u001b[0m\n\u001b[1;32m      1\u001b[0m \u001b[38;5;66;03m# 13.删除字典\u001b[39;00m\n\u001b[1;32m      2\u001b[0m \u001b[38;5;28;01mdel\u001b[39;00m my_dict\n\u001b[0;32m----> 3\u001b[0m \u001b[38;5;28mprint\u001b[39m(\u001b[43mmy_dict\u001b[49m)\n",
      "\u001b[0;31mNameError\u001b[0m: name 'my_dict' is not defined"
     ]
    }
   ],
   "source": [
    "# 13.删除字典\n",
    "del my_dict\n",
    "print(my_dict) #删除后再访问字典会报错"
   ]
  },
  {
   "cell_type": "code",
   "execution_count": null,
   "id": "75e8f0c9",
   "metadata": {},
   "outputs": [],
   "source": [
    "# 14.补充：字典相关排序操作\n",
    "\n",
    "## 根据key的值对字典进行排序\n",
    "student_info = {12030494: \"Alice\", 39493939: \"Bob\", 19088: \"John\"}\n",
    "# (key, value)\n",
    "sorted_items = sorted(student_info.items(), key=lambda kv: kv[0], reverse=False)\n",
    "print(sorted_items)\n",
    "\n",
    "## 根据value值对字典进行排序\n",
    "count = {'a': 10, 'b': 2, 'c': 4, 'd': 5, 'e': 1}\n",
    "sorted_items = sorted(count.items(), key=lambda kv: kv[1], reverse=True)\n",
    "print(sorted_items)"
   ]
  },
  {
   "cell_type": "markdown",
   "id": "d0bcb7d6",
   "metadata": {},
   "source": [
    "## 字典小测试(2min)\n",
    "\n",
    "**测试题一：判断题**\n",
    "\n",
    "1. 字典是有序的数据结构。\n",
    "2. 字典的键可以是任意不可变类型的对象，例如整数、字符串、元组等。\n",
    "3. 字典的值可以是任意类型的对象，包括列表、字典等。\n",
    "4. 字典中的键是唯一的，不允许重复。\n",
    "5. 字典的值是可以重复的。\n",
    "\n",
    "**测试题二：填空题**\n",
    "\n",
    "请填写下面代码中的空白处，实现以下功能：\n",
    "\n",
    "```python\n",
    "student_scores = {\"Alice\": 90, \"Bob\": 85, \"Charlie\": 92}\n",
    "\n",
    "# 判断字典中是否包含键为\"Bob\"的项\n",
    "if \"Bob\" ____ student_scores:\n",
    "    print(\"Bob的成绩是：\", student_scores[____])\n",
    "else:\n",
    "    print(\"找不到Bob的成绩\")\n",
    "\n",
    "# 将键为\"Alice\"的项从字典中删除\n",
    "____ student_scores[____]\n",
    "\n",
    "# 打印字典中所有的键和对应的值\n",
    "for key, value in student_scores.____():\n",
    "    print(\"学生：\", key, \" 成绩：\", value)\n",
    "```\n",
    "\n",
    "**测试题三：代码改错题**\n",
    "\n",
    "请修复下面代码中的错误，使其正确执行并输出字典中的所有键和对应的值：\n",
    "\n",
    "```python\n",
    "user_info = {\"name\": \"Alice\", \"age\": 25, \"gender\": \"female\"}\n",
    "\n",
    "for key in user_info:\n",
    "    print(\"键：\", key)\n",
    "    print(\"值：\", value)\n",
    "\n",
    "for key in user_info:\n",
    "    print(key, user_info[key])\n",
    "\n",
    "for k, v in user_info.items():\n",
    "    print(k, v)\n",
    "```\n",
    "\n",
    "注意：题目中的空白处或错误处用下划线(_)表示，需要根据题目要求填写或修复代码。\n"
   ]
  },
  {
   "cell_type": "markdown",
   "id": "959fef5e",
   "metadata": {},
   "source": [
    "## 集合的常用操作\n",
    "\n",
    "集合是Python中的一种无序、可变的数据结构，常用于存储唯一的元素。以下是集合的常用操作：\n",
    "\n",
    "1. 创建集合：\n",
    "   - 使用大括号 `{}` 创建空集合：`my_set = {}`\n",
    "   - 使用 `set()` 函数创建空集合：`my_set = set()`\n",
    "   - 使用大括号 `{}` 创建带有元素的集合：`my_set = {1, 2, 3}`\n",
    "\n",
    "2. 添加元素：\n",
    "   - 使用 `add()` 方法添加单个元素：`my_set.add(4)`\n",
    "   - 使用 `update()` 方法添加多个元素：`my_set.update([5, 6, 7])`\n",
    "\n",
    "3. 移除元素：\n",
    "   - 使用 `remove()` 方法移除指定元素：`my_set.remove(4)`\n",
    "   - 使用 `discard()` 方法移除指定元素（如果不存在也不会引发错误）：`my_set.discard(5)`\n",
    "   - 使用 `pop()` 方法随机移除并返回一个元素：`my_set.pop()`\n",
    "\n",
    "4. 集合运算：\n",
    "   - 并集：使用 `union()` 方法或 `|` 运算符：`union_set = set1.union(set2)` 或 `union_set = set1 | set2`\n",
    "   - 交集：使用 `intersection()` 方法或 `&` 运算符：`intersection_set = set1.intersection(set2)` 或 `intersection_set = set1 & set2`\n",
    "   - 差集：使用 `difference()` 方法或 `-` 运算符：`difference_set = set1.difference(set2)` 或 `difference_set = set1 - set2`\n",
    "   - 对称差集：使用 `symmetric_difference()` 方法或 `^` 运算符：`sym_diff_set = set1.symmetric_difference(set2)` 或 `sym_diff_set = set1 ^ set2`\n",
    "\n",
    "5. 判断元素是否存在：\n",
    "   - 使用 `in` 关键字判断元素是否存在于集合中：`element in my_set`\n",
    "\n",
    "6. 获取集合长度：\n",
    "   - 使用 `len()` 函数获取集合的长度：`length = len(my_set)`\n",
    "\n",
    "7. 清空集合：\n",
    "   - 使用 `clear()` 方法清空集合：`my_set.clear()`\n",
    "\n",
    "8. 遍历集合：\n",
    "   - 使用 `for` 循环遍历集合的元素：`for item in my_set:`\n",
    "   - 使用列表推导式将集合转换为列表进行遍历：`for item in list(my_set):`\n",
    "\n",
    "注意：集合是无序的，元素的顺序是不确定的。"
   ]
  },
  {
   "cell_type": "code",
   "execution_count": null,
   "id": "717357b6",
   "metadata": {},
   "outputs": [],
   "source": [
    "# 代码实践\n",
    "\n",
    "# 1.创建集合\n",
    "my_null_set = set()\n",
    "my_set = {1,2,3}\n",
    "\n",
    "# 2.插入元素\n",
    "my_set.add(1)\n",
    "my_set.update([5, 6, 7])\n",
    "\n",
    "# 3.移除元素\n",
    "my_set.remove(5) #请自行尝试my_set.remove(4) #元素不存在会报错\n",
    "my_set.discard(4) #元素不存在也不会报错\n",
    "x = my_set.pop()\n",
    "print(x)\n",
    "\n",
    "# 4.集合运算\n",
    "\n",
    "## 并集\n",
    "\n",
    "a_set = {1,2,3}\n",
    "b_set = {1,4,5}\n",
    "\n",
    "print(\"合并集合: \", a_set | b_set)\n",
    "print(\"合并集合：\", a_set.union(b_set))\n",
    "\n",
    "## 交集\n",
    "print(\"求两个集合的交集：\", a_set & b_set)\n",
    "print(\"求两个集合的交集：\", a_set.intersection(b_set))\n",
    "\n",
    "## 差集\n",
    "# 在a_set中但不在b_set的元素集合\n",
    "print(\"差集:\", a_set - b_set)\n",
    "print(\"差集:\", a_set.difference(b_set))\n",
    "\n",
    "# 在b_set中但不在a_set的元素集合\n",
    "print(\"差集:\", b_set - a_set)\n",
    "print(\"差集:\", b_set.difference(a_set))\n",
    "\n",
    "## 对称差集\n",
    "print(\"对称差集：\", a_set ^ b_set)\n",
    "print(\"对称差集：\", a_set.symmetric_difference(b_set))\n",
    "\n",
    "# 5.判断元素存在\n",
    "\n",
    "key = 5\n",
    "if key in my_set:\n",
    "    print(\"存在\")\n",
    "else:\n",
    "    print(\"不存在\")\n",
    "\n",
    "# 6.集合的长度\n",
    "print(\"集合的长度是：\", len(my_set))\n",
    "\n",
    "# 7.遍历集合\n",
    "for item in my_set:\n",
    "    print(item)\n",
    "\n",
    "\n",
    "# 8.清空集合\n",
    "my_set.clear()\n",
    "\n"
   ]
  },
  {
   "cell_type": "markdown",
   "id": "22387806",
   "metadata": {},
   "source": [
    "## 集合测试题\n",
    "\n",
    "1. 判断题：\n",
    "\n",
    "集合中的元素可以重复。\n",
    "（A）正确\n",
    "（B）错误\n",
    "\n",
    "2. 填空题：\n",
    "\n",
    "创建一个名为 \"numbers\" 的集合，包含数字 1、2、3、4。\n",
    "\n",
    "```python\n",
    "numbers = ___ 1, ___, ___, 4 ___\n",
    "```\n",
    "\n",
    "3. 代码改错题：\n",
    "\n",
    "下面的代码试图向集合中添加元素，请找出并修复错误：\n",
    "\n",
    "```python\n",
    "fruits = {\"apple\", \"banana\"}\n",
    "fruits.add(\"orange\", \"grape\")\n",
    "```\n",
    "\n",
    "4. 判断题：\n",
    "\n",
    "集合的交集是一个新的集合，其中包含同时存在于两个集合中的所有元素。\n",
    "\n",
    "（A）正确\n",
    "（B）错误\n",
    "\n",
    "5. 代码改错题：\n",
    "\n",
    "下面的代码试图从集合中移除一个元素，请找出并修复错误：\n",
    "\n",
    "```python\n",
    "colors = {\"red\", \"blue\", \"green\"}\n",
    "colors.remove(\"yellow\")\n",
    "```\n",
    "\n",
    "6. 请回答以下代码的结果是什么：\n",
    "\n",
    "```python\n",
    "sa = {\"Orange\"}\n",
    "sa.add(\"Apple\")\n",
    "sa.add(\"apple\")\n",
    "sa.discard(\"orange\")\n",
    "print(sa)\n",
    "```"
   ]
  },
  {
   "cell_type": "markdown",
   "id": "6bf3599c",
   "metadata": {},
   "source": [
    "## 元组\n",
    "\n",
    "在 Python 中，元组（Tuple）是一种有序、不可变的数据结构，用于存储多个元素。元组使用小括号 `()` 表示，元素之间使用逗号 `,` 分隔。\n",
    "\n",
    "元组的常用方法包括：\n",
    "\n",
    "1. 索引访问：使用索引号获取元组中的元素，索引号从 0 开始。例如，`my_tuple[0]` 表示获取元组 `my_tuple` 中的第一个元素。\n",
    "2. 切片操作：通过切片操作获取元组的子集。例如，`my_tuple[1:4]` 表示获取元组 `my_tuple` 中索引从 1 到 3 的元素。\n",
    "3. 元素个数：使用 `len()` 函数获取元组中元素的个数，例如，`len(my_tuple)` 表示获取元组 `my_tuple` 中元素的个数。\n",
    "4. 元素是否存在：使用 `in` 关键字判断元素是否存在于元组中。例如，`element in my_tuple` 表示判断元素 `element` 是否存在于元组 `my_tuple` 中。\n",
    "5. 元组拼接：使用 `+` 运算符将两个元组拼接在一起，生成一个新的元组。例如，`new_tuple = my_tuple1 + my_tuple2` 表示将元组 `my_tuple1` 和 `my_tuple2` 进行拼接。\n",
    "6. 元组重复：使用 `*` 运算符将一个元组重复多次，生成一个新的元组。例如，`new_tuple = my_tuple * 3` 表示将元组 `my_tuple` 重复 3 次。\n",
    "\n",
    "需要注意的是，由于元组是不可变的，因此不能直接修改元组中的元素。如果需要对元组进行修改，可以先将元组转换为列表进行修改，然后再将列表转换回元组。\n",
    "\n",
    "这些是元组的一些常用方法和操作。希望对你有所帮助。如有其他问题，请随时提问。"
   ]
  },
  {
   "cell_type": "code",
   "execution_count": null,
   "id": "b16a706a",
   "metadata": {},
   "outputs": [],
   "source": [
    "# 元组代码实践\n",
    "\n",
    "# 1.创建元素\n",
    "t = (1, 2, 4, 0, 1)\n",
    "\n",
    "# 2.索引访问\n",
    "print(t[0])\n",
    "\n",
    "# 3.元素个数\n",
    "print(len(t))\n",
    "\n",
    "# 4.元素是否存在\n",
    "\n",
    "key = 1\n",
    "if key in t:\n",
    "    print(\"存在\")\n",
    "else:\n",
    "    print(\"不存在\")\n",
    "\n",
    "# 5. 元组拼接\n",
    "print((1,2) + (3, 4))\n",
    "\n",
    "# 6.元组重复\n",
    "\n",
    "dt = (1, 2) * 10\n",
    "print(dt)\n",
    "\n",
    "# 7.元组不能修改，以下代码会报错\n",
    "t[0] = -1"
   ]
  },
  {
   "cell_type": "markdown",
   "id": "9affc52e",
   "metadata": {},
   "source": [
    "## 元组小测试\n",
    "\n",
    "1. 判断题：\n",
    "\n",
    "元组是可变的数据结构，可以在创建后修改其中的元素。\n",
    "（A）正确\n",
    "（B）错误\n",
    "\n",
    "2. 填空题：\n",
    "\n",
    "创建一个名为 \"fruits\" 的元组，包含水果名称 \"apple\"、\"banana\" 和 \"orange\"。\n",
    "\n",
    "```python\n",
    "fruits = (___, ___, ___)\n",
    "```\n",
    "\n",
    "3. 代码改错题：\n",
    "\n",
    "下面的代码试图向元组中添加一个元素，请找出并修复错误：\n",
    "\n",
    "```python\n",
    "colors = (\"red\", \"blue\")\n",
    "colors.append(\"green\")\n",
    "```\n",
    "\n",
    "4. 判断题：\n",
    "\n",
    "元组可以作为字典的键。\n",
    "（A）正确\n",
    "（B）错误\n",
    "\n",
    "5. 代码改错题：\n",
    "\n",
    "下面的代码试图修改元组中的一个元素，请找出并修复错误：\n",
    "\n",
    "```python\n",
    "coordinates = (10, 20, 30)\n",
    "coordinates[1] = 25\n",
    "```"
   ]
  },
  {
   "cell_type": "markdown",
   "id": "0a787c9d",
   "metadata": {},
   "source": [
    "# 课后练习题\n",
    "\n",
    "## 题目一\n",
    "假设有一个学生名单的列表，其中包含多个学生的姓名和对应的成绩。请编写一个函数，接受该学生名单列表作为参数，并返回一个字典，其中键为学生姓名，值为对应的成绩。要求：将成绩大于等于80分的学生加入字典中，同时对输出的字典的元组按照成绩从高到底输出学生的名字和成绩。\n",
    "\n",
    "示例输入：\n",
    "students = [(\"Alice\", 85), (\"Bob\", 72), (\"Charlie\", 90), (\"Dave\", 78), (\"Eva\", 92)]\n",
    "\n",
    "示例输出：\n",
    "{\"Alice\": 85, \"Charlie\": 90, \"Eva\": 92}\n",
    "Charlie 90\n",
    "Eva 92\n",
    "Alice 85\n",
    "\n",
    "**提示：**：使用sorted函数对字典的items进行排序\n",
    "\n",
    "## 题目二\n",
    "编写一个函数，接受一个字符串作为参数，统计该字符串中各个字符出现的次数，并将结果保存在一个字典中返回。要求：字典中的键为字符串中的字符，值为对应字符出现的次数。\n",
    "\n",
    "示例输入：\n",
    "s = \"abracadabra\"\n",
    "\n",
    "示例输出：\n",
    "{\"a\": 5, \"b\": 2, \"r\": 2, \"c\": 1, \"d\": 1}\n",
    "\n",
    "注意：在统计字符次数时，可以忽略空格或其他非字母字符。"
   ]
  },
  {
   "cell_type": "markdown",
   "id": "845681a4",
   "metadata": {},
   "source": [
    "# python 标准库\n",
    "\n",
    "\n",
    "## os模块\n",
    "\n",
    "`os` 模块是Python标准库中提供的一个与操作系统交互的模块，它提供了许多函数和变量来执行各种操作，如文件和目录操作、进程管理、环境变量访问等。以下是 `os` 模块中一些常用的函数和变量：\n",
    "\n",
    "常用函数：\n",
    "- `os.getcwd()`: 获取当前工作目录的路径。\n",
    "- `os.chdir(path)`: 修改当前工作目录为指定路径。\n",
    "- `os.listdir(path)`: 返回指定目录下的文件和目录列表。\n",
    "- `os.mkdir(path)`: 创建一个新目录。\n",
    "- `os.makedirs(path)`: 递归地创建新目录。\n",
    "- `os.remove(path)`: 删除指定路径的文件。\n",
    "- `os.rmdir(path)`: 删除指定路径的目录。\n",
    "- `os.path.join(path1, path2, ...)`：将多个路径组合成一个路径。\n",
    "- `os.path.exists(path)`: 检查指定路径是否存在。\n",
    "- `os.path.isdir(path)`: 判断指定路径是否是一个目录。\n",
    "- `os.path.isfile(path)`: 判断指定路径是否是一个文件。\n",
    "\n",
    "常用变量：\n",
    "- `os.sep`: 用于分隔文件路径的分隔符，例如在Unix/Linux系统中是`/`，在Windows系统中是`\\`。\n",
    "- `os.name`: 表示当前操作系统的名称，例如在Unix/Linux系统中是`posix`，在Windows系统中是`nt`。\n",
    "\n",
    "请注意，以上仅列举了 `os` 模块的一部分常用函数和变量，还有其他许多函数和变量可以根据需要进行探索和使用。你可以通过查阅Python官方文档或使用`help(os)`命令来获取更详细的信息。"
   ]
  },
  {
   "cell_type": "code",
   "execution_count": null,
   "id": "c2deaf3f",
   "metadata": {},
   "outputs": [],
   "source": []
  },
  {
   "cell_type": "code",
   "execution_count": null,
   "id": "a97f6887",
   "metadata": {},
   "outputs": [],
   "source": [
    "# 导入os模块\n",
    "import os\n",
    "\n",
    "# 获取当前工作目录的路径并打印\n",
    "path = os.getcwd()\n",
    "print(path)"
   ]
  },
  {
   "cell_type": "code",
   "execution_count": null,
   "id": "d62b7012",
   "metadata": {},
   "outputs": [],
   "source": [
    "# 修改当前工作目录为指定路径\n",
    "\n",
    "root_path = '/Users/lilianli/Documents/GitHub/runlearning/PainterPython' #这里可以替换为你自己的目录\n",
    "os.chdir(root_path)\n",
    "print(os.getcwd())"
   ]
  },
  {
   "cell_type": "code",
   "execution_count": null,
   "id": "6df79cf4",
   "metadata": {},
   "outputs": [],
   "source": [
    "# 返回指定目录下的文件和目录列表\n",
    "contents = os.listdir(path)\n",
    "print(contents)"
   ]
  },
  {
   "cell_type": "code",
   "execution_count": null,
   "id": "b1f6cc22",
   "metadata": {},
   "outputs": [],
   "source": [
    "# 获取每个文件的绝对路径\n",
    "\n",
    "for file in contents:\n",
    "    print(path + '/' + file)"
   ]
  },
  {
   "cell_type": "code",
   "execution_count": null,
   "id": "523a695d",
   "metadata": {},
   "outputs": [],
   "source": [
    "import os\n",
    "\n",
    "euid = os.geteuid()\n",
    "\n",
    "if euid == 0:\n",
    "    print(\"当前用户具有管理员权限\")\n",
    "else:\n",
    "    print(\"当前用户没有管理员权限\")\n",
    "\n",
    "    \n",
    "# 当前目录创建一个目录\n",
    "new_dir = path + '/test_dir'\n",
    "if not os.path.exists(new_dir):\n",
    "    print(\"这个目录不存在，新建\")\n",
    "    os.makedirs(new_dir)\n",
    "else:\n",
    "    print('这个目录已经存在，先删除，再新建')\n",
    "    os.chmod(new_dir, 0x777)\n",
    "    # 如果已存在则删除这个目录\n",
    "    os.remove(new_dir)\n",
    "    #然后再创建\n",
    "    os.makedirs(new_dir)"
   ]
  },
  {
   "cell_type": "code",
   "execution_count": null,
   "id": "8e634aee",
   "metadata": {},
   "outputs": [],
   "source": [
    "contents = os.listdir(path)\n",
    "print(contents)"
   ]
  },
  {
   "cell_type": "code",
   "execution_count": null,
   "id": "e967ac9a",
   "metadata": {},
   "outputs": [],
   "source": [
    "## 递归创建目录\n",
    "new_dir2 = path + '/test_dir2/subtest/hello'\n",
    "os.makedirs(new_dir2)\n",
    "contents = os.listdir(path)\n",
    "print(contents)"
   ]
  }
 ],
 "metadata": {
  "kernelspec": {
   "display_name": "Python 3 (ipykernel)",
   "language": "python",
   "name": "python3"
  },
  "language_info": {
   "codemirror_mode": {
    "name": "ipython",
    "version": 3
   },
   "file_extension": ".py",
   "mimetype": "text/x-python",
   "name": "python",
   "nbconvert_exporter": "python",
   "pygments_lexer": "ipython3",
   "version": "3.10.9"
  }
 },
 "nbformat": 4,
 "nbformat_minor": 5
}
