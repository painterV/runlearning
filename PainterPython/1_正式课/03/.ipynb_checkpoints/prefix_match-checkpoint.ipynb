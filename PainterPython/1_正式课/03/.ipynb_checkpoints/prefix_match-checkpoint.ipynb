{
 "cells": [
  {
   "cell_type": "code",
   "execution_count": 5,
   "id": "7ad45167",
   "metadata": {},
   "outputs": [
    {
     "name": "stdout",
     "output_type": "stream",
     "text": [
      "广东外语大学 包含于 广东外语大学数据学院\n",
      "中山大学 包含于 中山大学旅游学院\n",
      "['广东外语大学', '广东外语大学', '中山大学', '中山大学']\n"
     ]
    }
   ],
   "source": [
    "units = ['广东外语大学', '广东外语大学数据学院', '中山大学', '中山大学旅游学院']\n",
    "\n",
    "for i in range(len(units)):\n",
    "    for j in range(i+1, len(units)):\n",
    "        if units[i] in units[j]:\n",
    "            print(f\"{units[i]} 包含于 {units[j]}\")\n",
    "            units[j] = units[i]\n",
    "        elif units[j] in units[i]:\n",
    "            print(f\"{units[j]} 包含于 {units[i]}\")\n",
    "            units[i] = units[j]\n",
    "        #else:\n",
    "        #    print(f\"{units[i]} 和 {units[j]} 无包含关系\")\n",
    "print(units)\n"
   ]
  },
  {
   "cell_type": "code",
   "execution_count": null,
   "id": "730e5204",
   "metadata": {},
   "outputs": [],
   "source": []
  }
 ],
 "metadata": {
  "kernelspec": {
   "display_name": "Python 3 (ipykernel)",
   "language": "python",
   "name": "python3"
  },
  "language_info": {
   "codemirror_mode": {
    "name": "ipython",
    "version": 3
   },
   "file_extension": ".py",
   "mimetype": "text/x-python",
   "name": "python",
   "nbconvert_exporter": "python",
   "pygments_lexer": "ipython3",
   "version": "3.10.9"
  }
 },
 "nbformat": 4,
 "nbformat_minor": 5
}
